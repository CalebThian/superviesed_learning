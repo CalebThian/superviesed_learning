{
 "cells": [
  {
   "cell_type": "code",
   "execution_count": 3,
   "id": "d953c88e",
   "metadata": {},
   "outputs": [],
   "source": [
    "import seaborn as sns\n",
    "import matplotlib.pyplot as plt\n",
    "def visualize_score(conf_mat):\n",
    "    conf_mat_flatten = [conf_mat[0][0],conf_mat[0][1],conf_mat[1][0],conf_mat[1][1]]\n",
    "    names = ['TN','FP','FN','TP']\n",
    "    counts = [\"{0:0.0f}\".format(value) for value in conf_mat_flatten]\n",
    "    total = conf_mat[0][0]+conf_mat[0][1]+conf_mat[1][0]+conf_mat[1][1]\n",
    "    percentages = [\"{0:.2%}\".format(value/total) for value in conf_mat_flatten]\n",
    "    labels = [f\"{n}\\n{c}\\n{p}\" for n, c, p in zip(names,counts,percentages)]\n",
    "    labels = [[labels[0],labels[1]],[labels[2],labels[3]]]\n",
    "    sns.heatmap(conf_mat, annot=labels, fmt='')\n",
    "    plt.xlabel('Predict', fontsize = 15) # x-axis label with fontsize 15\n",
    "    plt.ylabel('Truth', fontsize = 15) # y-axis label with fontsize 15"
   ]
  },
  {
   "cell_type": "code",
   "execution_count": null,
   "id": "41ea25b1",
   "metadata": {},
   "outputs": [],
   "source": []
  }
 ],
 "metadata": {
  "kernelspec": {
   "display_name": "Python 3 (ipykernel)",
   "language": "python",
   "name": "python3"
  },
  "language_info": {
   "codemirror_mode": {
    "name": "ipython",
    "version": 3
   },
   "file_extension": ".py",
   "mimetype": "text/x-python",
   "name": "python",
   "nbconvert_exporter": "python",
   "pygments_lexer": "ipython3",
   "version": "3.8.5"
  }
 },
 "nbformat": 4,
 "nbformat_minor": 5
}
