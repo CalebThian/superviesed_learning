{
 "cells": [
  {
   "cell_type": "code",
   "execution_count": 3,
   "id": "581e770a",
   "metadata": {},
   "outputs": [],
   "source": [
    "train_path = \"..//data//train.csv\"\n",
    "test_path = \"..//data//test.csv\""
   ]
  },
  {
   "cell_type": "code",
   "execution_count": 4,
   "id": "1b30bca9",
   "metadata": {},
   "outputs": [],
   "source": [
    "def str2num(data,test=False):\n",
    "    data[1] = float(data[1])\n",
    "    data[2] = float(data[2])\n",
    "    data[3] = float(data[3])\n",
    "    data[5] = int(data[5])\n",
    "    data[6] = int(data[6])\n",
    "    data[13] = int(data[13]) \n",
    "    data[20] = int(data[20])\n",
    "    data[21] = int(data[21])\n",
    "    data[23] = int(data[23])\n",
    "    data[25] = float(data[25])\n",
    "    data[26] = int(data[26])\n",
    "    data[27] = int(data[27])\n",
    "    data[28] = int(data[28])\n",
    "    data[29] = int(data[29])\n",
    "    data[42] = int(data[42])\n",
    "    if test==False:\n",
    "        data[43] = int(data[43])"
   ]
  },
  {
   "cell_type": "code",
   "execution_count": 5,
   "id": "c963ec55",
   "metadata": {},
   "outputs": [],
   "source": [
    "def label_encoder(results,Dict = None):\n",
    "    # categorical column [4,7,8,9,10,11,12,14,15,16,17,18,19,22,24,30,31,32,33,34,35,36,37,38,39,40,41]\n",
    "    cat = [4,7,8,9,10,11,12,14,15,16,17,18,19,22,24,30,31,32,33,34,35,36,37,38,39,40,41]\n",
    "    if Dict == None:\n",
    "        Dict=dict()\n",
    "        \n",
    "    for col in cat:\n",
    "        if col not in Dict.keys():\n",
    "            Dict[col] = dict()\n",
    "            counter = 0\n",
    "        else:\n",
    "            counter = len(Dict[col])\n",
    "                \n",
    "        for r in results:\n",
    "            if r[col] not in Dict[col].keys():\n",
    "                Dict[col][r[col]]=counter\n",
    "                counter += 1\n",
    "            r[col] = Dict[col][r[col]]\n",
    "    return Dict"
   ]
  },
  {
   "cell_type": "code",
   "execution_count": 6,
   "id": "3647051a",
   "metadata": {},
   "outputs": [],
   "source": [
    "def read_csv(path,test=False,Dict = None):\n",
    "    with open(path , 'r') as f:\n",
    "        header = []\n",
    "        results = []\n",
    "        for line in f:\n",
    "            if header == []:\n",
    "                header = line.split(',')\n",
    "                header[-1] = header[-1][:-1]\n",
    "            else:\n",
    "                words = line.split(',')\n",
    "                words[-1] = words[-1][:-1]\n",
    "                str2num(words,test=test)\n",
    "                results.append(words)\n",
    "        label_encoder(results,Dict = Dict)\n",
    "        return header,results"
   ]
  },
  {
   "cell_type": "code",
   "execution_count": 8,
   "id": "3160dbe6",
   "metadata": {},
   "outputs": [
    {
     "name": "stdout",
     "output_type": "stream",
     "text": [
      "0: ID58593\n",
      "1: 0.341731678878033\n",
      "2: 0.0\n",
      "3: 0.586538461538462\n",
      "4: C3\n",
      "5: 4076\n",
      "6: 1\n",
      "7: A\n",
      "8: M1\n",
      "9: CNG\n",
      "10: 60Nm@3500rpm\n",
      "11: 40.36bhp@6000rpm\n",
      "12: F8D Petrol Engine\n",
      "13: 2\n",
      "14: No\n",
      "15: No\n",
      "16: No\n",
      "17: Yes\n",
      "18: No\n",
      "19: Drum\n",
      "20: 796\n",
      "21: 3\n",
      "22: Manual\n",
      "23: 5\n",
      "24: Power\n",
      "25: 4.6\n",
      "26: 3445\n",
      "27: 1515\n",
      "28: 1475\n",
      "29: 1185\n",
      "30: No\n",
      "31: No\n",
      "32: No\n",
      "33: No\n",
      "34: No\n",
      "35: No\n",
      "36: No\n",
      "37: Yes\n",
      "38: No\n",
      "39: No\n",
      "40: No\n",
      "41: Yes\n",
      "42: 0\n"
     ]
    }
   ],
   "source": [
    "with open(test_path , 'r') as f:\n",
    "    header = []\n",
    "    results = []\n",
    "    for line in f:\n",
    "        if header == []:\n",
    "            header = line.split(',')\n",
    "            header[-1] = header[-1][:-1]\n",
    "        else:\n",
    "            words = line.split(',')\n",
    "            words[-1] = words[-1][:-1]\n",
    "            str2num(words,test=True)\n",
    "            results.append(words)\n",
    "    for i,d in enumerate(results[0]):\n",
    "        print(f\"{i}: {d}\")"
   ]
  },
  {
   "cell_type": "code",
   "execution_count": 10,
   "id": "a14cd82a",
   "metadata": {},
   "outputs": [
    {
     "data": {
      "text/plain": [
       "['ID58613',\n",
       " 0.173936958774036,\n",
       " 0.11,\n",
       " 0.355769230769231,\n",
       " 1,\n",
       " 8794,\n",
       " 1,\n",
       " 1,\n",
       " 1,\n",
       " 1,\n",
       " 1,\n",
       " 1,\n",
       " 1,\n",
       " 2,\n",
       " 0,\n",
       " 1,\n",
       " 0,\n",
       " 0,\n",
       " 0,\n",
       " 0,\n",
       " 1197,\n",
       " 4,\n",
       " 0,\n",
       " 5,\n",
       " 1,\n",
       " 4.8,\n",
       " 3845,\n",
       " 1735,\n",
       " 1530,\n",
       " 1335,\n",
       " 1,\n",
       " 0,\n",
       " 0,\n",
       " 0,\n",
       " 1,\n",
       " 1,\n",
       " 1,\n",
       " 0,\n",
       " 1,\n",
       " 1,\n",
       " 1,\n",
       " 0,\n",
       " 2]"
      ]
     },
     "execution_count": 10,
     "metadata": {},
     "output_type": "execute_result"
    }
   ],
   "source": [
    "d=label_encoder(results)\n",
    "results[20]"
   ]
  },
  {
   "cell_type": "code",
   "execution_count": 11,
   "id": "4d2b2cf4",
   "metadata": {},
   "outputs": [
    {
     "data": {
      "text/plain": [
       "['ID58613',\n",
       " 0.173936958774036,\n",
       " 0.11,\n",
       " 0.355769230769231,\n",
       " 1,\n",
       " 8794,\n",
       " 1,\n",
       " 1,\n",
       " 1,\n",
       " 1,\n",
       " 1,\n",
       " 1,\n",
       " 1,\n",
       " 2,\n",
       " 0,\n",
       " 1,\n",
       " 0,\n",
       " 0,\n",
       " 0,\n",
       " 0,\n",
       " 1197,\n",
       " 4,\n",
       " 0,\n",
       " 5,\n",
       " 1,\n",
       " 4.8,\n",
       " 3845,\n",
       " 1735,\n",
       " 1530,\n",
       " 1335,\n",
       " 1,\n",
       " 0,\n",
       " 0,\n",
       " 0,\n",
       " 1,\n",
       " 1,\n",
       " 1,\n",
       " 0,\n",
       " 1,\n",
       " 1,\n",
       " 1,\n",
       " 0,\n",
       " 2]"
      ]
     },
     "execution_count": 11,
     "metadata": {},
     "output_type": "execute_result"
    }
   ],
   "source": [
    "d=label_encoder(results,Dict = d)\n",
    "results[20]"
   ]
  },
  {
   "cell_type": "code",
   "execution_count": null,
   "id": "37edc23b",
   "metadata": {},
   "outputs": [],
   "source": []
  }
 ],
 "metadata": {
  "kernelspec": {
   "display_name": "Python 3 (ipykernel)",
   "language": "python",
   "name": "python3"
  },
  "language_info": {
   "codemirror_mode": {
    "name": "ipython",
    "version": 3
   },
   "file_extension": ".py",
   "mimetype": "text/x-python",
   "name": "python",
   "nbconvert_exporter": "python",
   "pygments_lexer": "ipython3",
   "version": "3.8.5"
  }
 },
 "nbformat": 4,
 "nbformat_minor": 5
}
