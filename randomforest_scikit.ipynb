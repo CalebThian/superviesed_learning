{
 "cells": [
  {
   "cell_type": "code",
   "execution_count": 1,
   "id": "4e9a133b",
   "metadata": {},
   "outputs": [],
   "source": [
    "from sklearn.ensemble import RandomForestClassifier\n",
    "from data import read_csv,train_test_split,data2XY\n",
    "from utils import visualize_score"
   ]
  },
  {
   "cell_type": "code",
   "execution_count": 2,
   "id": "a02f1c08",
   "metadata": {},
   "outputs": [],
   "source": [
    "train_path = \"..//data//train.csv\""
   ]
  },
  {
   "cell_type": "code",
   "execution_count": null,
   "id": "44bb9b39",
   "metadata": {},
   "outputs": [],
   "source": [
    "header,data = read_csv(train_path)\n",
    "train,test,_ = train_test_split(data,test_size=0)\n",
    "X_train,y_train = data2XY(train)\n",
    "X_test,y_test = data2XY(test)"
   ]
  },
  {
   "cell_type": "code",
   "execution_count": null,
   "id": "5321d78f",
   "metadata": {},
   "outputs": [],
   "source": []
  }
 ],
 "metadata": {
  "kernelspec": {
   "display_name": "Python 3 (ipykernel)",
   "language": "python",
   "name": "python3"
  },
  "language_info": {
   "codemirror_mode": {
    "name": "ipython",
    "version": 3
   },
   "file_extension": ".py",
   "mimetype": "text/x-python",
   "name": "python",
   "nbconvert_exporter": "python",
   "pygments_lexer": "ipython3",
   "version": "3.8.5"
  }
 },
 "nbformat": 4,
 "nbformat_minor": 5
}
