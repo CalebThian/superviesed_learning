{
 "cells": [
  {
   "cell_type": "code",
   "execution_count": 1,
   "id": "11e68534",
   "metadata": {},
   "outputs": [],
   "source": [
    "from data import read_csv\n",
    "import seaborn as sns"
   ]
  },
  {
   "cell_type": "code",
   "execution_count": 2,
   "id": "c38c05e1",
   "metadata": {},
   "outputs": [],
   "source": [
    "train_path = \"..//data//train.csv\"\n",
    "test_path = \"..//data//test.csv\""
   ]
  },
  {
   "cell_type": "code",
   "execution_count": 3,
   "id": "ac2430d6",
   "metadata": {},
   "outputs": [],
   "source": [
    "header,train,d = read_csv(train_path)\n",
    "_,test,_ = read_csv(test_path,test=True,Dict = d)"
   ]
  },
  {
   "cell_type": "code",
   "execution_count": null,
   "id": "972f8727",
   "metadata": {},
   "outputs": [],
   "source": [
    "class DecisionTreeClassifier():\n",
    "    def __init__(self):\n",
    "        self.cat = [4,7,8,9,10,11,12,14,15,16,17,18,19,22,24,30,31,32,33,34,35,36,37,38,39,40,41]\n",
    "        self.num = []\n",
    "        self.e = 2.71828182846\n",
    "        self.pi = 3.14159265359\n",
    "        for i in range(1,43): #ID and is_claim is excluded\n",
    "            if i not in self.cat:\n",
    "                self.num.append(i)"
   ]
  }
 ],
 "metadata": {
  "kernelspec": {
   "display_name": "Python 3 (ipykernel)",
   "language": "python",
   "name": "python3"
  },
  "language_info": {
   "codemirror_mode": {
    "name": "ipython",
    "version": 3
   },
   "file_extension": ".py",
   "mimetype": "text/x-python",
   "name": "python",
   "nbconvert_exporter": "python",
   "pygments_lexer": "ipython3",
   "version": "3.8.5"
  }
 },
 "nbformat": 4,
 "nbformat_minor": 5
}
