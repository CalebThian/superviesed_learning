{
 "cells": [
  {
   "cell_type": "code",
   "execution_count": 1,
   "id": "11e68534",
   "metadata": {},
   "outputs": [],
   "source": [
    "from utils import data_process\n",
    "from math import log\n",
    "from random import randint,choices"
   ]
  },
  {
   "cell_type": "code",
   "execution_count": 2,
   "id": "7baef3d8",
   "metadata": {},
   "outputs": [],
   "source": [
    "path = \"..//data//train.csv\"\n",
    "X_train,y_train,X_test,y_test,Dict = data_process(path)\n",
    "feature_cat = [3,6,7,8,9,10,11,13,14,15,16,17,18,21,23,29,30,31,32,33,34,35,36,37,38,39,40]\n",
    "feature_num = []\n",
    "for i in range(42): #ID and is_claim is excluded\n",
    "    if i not in feature_cat:\n",
    "        feature_num.append(i)"
   ]
  },
  {
   "cell_type": "code",
   "execution_count": 3,
   "id": "3a02aaa1",
   "metadata": {},
   "outputs": [],
   "source": [
    "seq = []\n",
    "for i in range(len(X_train)):\n",
    "    seq.append(i)"
   ]
  },
  {
   "cell_type": "code",
   "execution_count": 4,
   "id": "ac2430d6",
   "metadata": {},
   "outputs": [],
   "source": [
    "def log2(p):\n",
    "    return log(p)/log(2)\n",
    "    \n",
    "def entropy(p):\n",
    "    if p == 0:\n",
    "        return 0\n",
    "    elif p == 1:\n",
    "        return 0\n",
    "    else:\n",
    "        return - (p * log2(p) + (1 - p) * log2(1-p))\n",
    "\n",
    "def information_gain(left_child, right_child):\n",
    "    parent = left_child + right_child\n",
    "    p_parent = parent.count(1) / len(parent) if len(parent) > 0 else 0\n",
    "    p_left = left_child.count(1) / len(left_child) if len(left_child) > 0 else 0\n",
    "    p_right = right_child.count(1) / len(right_child) if len(right_child) > 0 else 0\n",
    "    IG_p = entropy(p_parent)\n",
    "    IG_l = entropy(p_left)\n",
    "    IG_r = entropy(p_right)\n",
    "    return IG_p - len(left_child) / len(parent) * IG_l - len(right_child) / len(parent) * IG_r"
   ]
  },
  {
   "cell_type": "code",
   "execution_count": 5,
   "id": "1b5dc8e8",
   "metadata": {},
   "outputs": [],
   "source": [
    "def slices(data,indices):\n",
    "    d = []\n",
    "    for ind in indices:\n",
    "        d.append(data[ind])\n",
    "    return d"
   ]
  },
  {
   "cell_type": "code",
   "execution_count": 6,
   "id": "972f8727",
   "metadata": {},
   "outputs": [],
   "source": [
    "def draw_bootstrap(X_train, y_train):\n",
    "    bootstrap_indices = choices(seq,k=len(X_train))\n",
    "    #oob_indices = [i for i in range(len(X_train)) if i not in bootstrap_indices]\n",
    "    oob_indices = list(set(seq)-set(bootstrap_indices))\n",
    "    X_bootstrap = slices(X_train,bootstrap_indices)\n",
    "    y_bootstrap = slices(y_train,bootstrap_indices)\n",
    "    X_oob = slices(X_train,oob_indices)\n",
    "    y_oob = slices(y_train,oob_indices)\n",
    "    return X_bootstrap, y_bootstrap, X_oob, y_oob"
   ]
  },
  {
   "cell_type": "code",
   "execution_count": 7,
   "id": "32585a9f",
   "metadata": {},
   "outputs": [],
   "source": [
    "def oob_score(tree, X_test, y_test):\n",
    "    mis_label = 0\n",
    "    for i in range(len(X_test)):\n",
    "        pred = predict_tree(tree, X_test[i])\n",
    "        if pred != y_test[i]:\n",
    "            mis_label += 1\n",
    "    return mis_label / len(X_test)"
   ]
  },
  {
   "cell_type": "code",
   "execution_count": 8,
   "id": "a7459f07",
   "metadata": {},
   "outputs": [],
   "source": [
    "def sampling(length,size):\n",
    "    sample_list = []\n",
    "    for i in range(length):\n",
    "        sample_list.append(i)\n",
    "        \n",
    "    for i in range(100):\n",
    "        ind1 = randint(0,length-1)\n",
    "        ind2 = randint(0,length-1)\n",
    "        temp = sample_list[ind1]\n",
    "        sample_list[ind1] = sample_list[ind2]\n",
    "        sample_list[ind2] = temp\n",
    "    return sample_list[:size]"
   ]
  },
  {
   "cell_type": "code",
   "execution_count": 9,
   "id": "1969bf01",
   "metadata": {},
   "outputs": [],
   "source": [
    "def data_col(data,feature_ind,Dict):\n",
    "    col_data = []\n",
    "    if feature_ind in feature_cat: # +1 because the key value in Dict didn't exclude ID\n",
    "        max_counter = len(Dict[feature_ind+1])\n",
    "        ls = []\n",
    "        for i in range(max_counter):\n",
    "            ls.append(i)\n",
    "    else:\n",
    "        ls = set()\n",
    "        for d in data:\n",
    "            ls.add(d[feature_ind])\n",
    "    \n",
    "    for d in data:\n",
    "        col_data.append(d[feature_ind])\n",
    "    \n",
    "    return col_data,ls"
   ]
  },
  {
   "cell_type": "code",
   "execution_count": 10,
   "id": "49b994fc",
   "metadata": {},
   "outputs": [],
   "source": [
    "def find_split_point(X_bootstrap, y_bootstrap, max_features):\n",
    "    num_features = len(X_bootstrap[0])\n",
    "    feature_ls = sampling(num_features,max_features)\n",
    "\n",
    "    best_info_gain = -999\n",
    "    node = None\n",
    "    for f_ind,feature_ind in enumerate(feature_ls):\n",
    "        col_data,unique_col_data = data_col(X_bootstrap,feature_ind,Dict)\n",
    "        for split_point in unique_col_data:\n",
    "            left_child = {'X_bootstrap': [], 'y_bootstrap': []}\n",
    "            right_child = {'X_bootstrap': [], 'y_bootstrap': []}\n",
    "\n",
    "            # split children for continuous variables\n",
    "            if feature_ind in feature_num:\n",
    "                for i, value in enumerate(col_data):\n",
    "                    if value <= split_point:\n",
    "                        left_child['X_bootstrap'].append(X_bootstrap[i])\n",
    "                        left_child['y_bootstrap'].append(y_bootstrap[i])\n",
    "                    else:\n",
    "                        right_child['X_bootstrap'].append(X_bootstrap[i])\n",
    "                        right_child['y_bootstrap'].append(y_bootstrap[i])\n",
    "            \n",
    "            # split children for categorical variables\n",
    "            else:\n",
    "                for i, value in enumerate(col_data):\n",
    "                    if value == split_point:\n",
    "                        left_child['X_bootstrap'].append(X_bootstrap[i])\n",
    "                        left_child['y_bootstrap'].append(y_bootstrap[i])\n",
    "                    else:\n",
    "                        right_child['X_bootstrap'].append(X_bootstrap[i])\n",
    "                        right_child['y_bootstrap'].append(y_bootstrap[i])\n",
    "\n",
    "            split_info_gain = information_gain(left_child['y_bootstrap'], right_child['y_bootstrap'])\n",
    "            if split_info_gain > best_info_gain:\n",
    "                best_info_gain = split_info_gain\n",
    "                node = {'information_gain': split_info_gain,\n",
    "                        'left_child': left_child,\n",
    "                        'right_child': right_child,\n",
    "                        'split_point': split_point,\n",
    "                        'feature_ind': feature_ind}\n",
    "    return node"
   ]
  },
  {
   "cell_type": "code",
   "execution_count": 11,
   "id": "4a09cd06",
   "metadata": {},
   "outputs": [],
   "source": [
    "def terminal_node(node):\n",
    "    y_bootstrap = node['y_bootstrap']\n",
    "    pred = max(y_bootstrap, key = y_bootstrap.count)\n",
    "    return pred\n",
    "\n",
    "\n",
    "def split_node(node, max_features, min_samples_split, max_depth, depth):\n",
    "    print(f\"Depth = {depth}\")\n",
    "    left_child = node['left_child']\n",
    "    right_child = node['right_child']\n",
    "\n",
    "    del(node['left_child'])\n",
    "    del(node['right_child'])\n",
    "\n",
    "    if len(left_child['y_bootstrap']) == 0 or len(right_child['y_bootstrap']) == 0:\n",
    "        empty_child = {'y_bootstrap': left_child['y_bootstrap'] + right_child['y_bootstrap']}\n",
    "        node['left_split'] = terminal_node(empty_child)\n",
    "        node['right_split'] = terminal_node(empty_child)\n",
    "        return\n",
    "\n",
    "    if depth >= max_depth:\n",
    "        node['left_split'] = terminal_node(left_child)\n",
    "        node['right_split'] = terminal_node(right_child)\n",
    "        return node\n",
    "\n",
    "    if len(left_child['X_bootstrap']) <= min_samples_split:\n",
    "        node['left_split'] = node['right_split'] = terminal_node(left_child)\n",
    "    else:\n",
    "        node['left_split'] = find_split_point(left_child['X_bootstrap'], left_child['y_bootstrap'], max_features)\n",
    "        split_node(node['left_split'], max_features, min_samples_split, max_depth, depth + 1)\n",
    "    \n",
    "    if len(right_child['X_bootstrap']) <= min_samples_split:\n",
    "        node['right_split'] = node['left_split'] = terminal_node(right_child)\n",
    "    else:\n",
    "        node['right_split'] = find_split_point(right_child['X_bootstrap'], right_child['y_bootstrap'], max_features)\n",
    "        split_node(node['right_split'], max_features, min_samples_split, max_depth, depth + 1)"
   ]
  },
  {
   "cell_type": "code",
   "execution_count": 12,
   "id": "df4e267d",
   "metadata": {},
   "outputs": [],
   "source": [
    "def build_tree(X_bootstrap, y_bootstrap, max_depth, min_samples_split, max_features):\n",
    "    root_node = find_split_point(X_bootstrap, y_bootstrap, max_features)\n",
    "    split_node(root_node, max_features, min_samples_split, max_depth, 1)\n",
    "    return root_node\n",
    "\n",
    "def random_forest(X_train, y_train, n_estimators, max_depth, min_samples_split, max_features):\n",
    "    tree_ls = list()\n",
    "    oob_ls = list()\n",
    "    for i in range(n_estimators):\n",
    "        print(f\"Generating tree {i}\")\n",
    "        X_bootstrap, y_bootstrap, X_oob, y_oob = draw_bootstrap(X_train, y_train)\n",
    "        tree = build_tree(X_bootstrap, y_bootstrap, max_depth, min_samples_split,max_features)\n",
    "        tree_ls.append(tree)\n",
    "        oob_error = oob_score(tree, X_oob, y_oob)\n",
    "        oob_ls.append(oob_error)\n",
    "    print(\"OOB estimate: {:.2f}\".format(np.mean(oob_ls)))\n",
    "    return tree_ls"
   ]
  },
  {
   "cell_type": "code",
   "execution_count": 13,
   "id": "64890094",
   "metadata": {},
   "outputs": [],
   "source": [
    "def predict_tree(tree, X_test):\n",
    "    feature_ind = tree['feature_ind']\n",
    "\n",
    "    if X_test[feature_ind] <= tree['split_point']:\n",
    "        if type(tree['left_split']) == dict:\n",
    "            return predict_tree(tree['left_split'], X_test)\n",
    "        else:\n",
    "            value = tree['left_split']\n",
    "            return value\n",
    "    else:\n",
    "        if type(tree['right_split']) == dict:\n",
    "            return predict_tree(tree['right_split'], X_test)\n",
    "        else:\n",
    "            return tree['right_split']"
   ]
  },
  {
   "cell_type": "code",
   "execution_count": 14,
   "id": "6d782b64",
   "metadata": {},
   "outputs": [],
   "source": [
    "def predict_rf(tree_ls, X_test):\n",
    "    pred_ls = []\n",
    "    for i in range(len(X_test)):\n",
    "        ensemble_preds = [predict_tree(tree, X_test.values[i]) for tree in tree_ls]\n",
    "        final_pred = max(ensemble_preds, key = ensemble_preds.count)\n",
    "        pred_ls.append(final_pred)\n",
    "    return pred_ls"
   ]
  },
  {
   "cell_type": "code",
   "execution_count": 15,
   "id": "119f27dd",
   "metadata": {},
   "outputs": [
    {
     "name": "stdout",
     "output_type": "stream",
     "text": [
      "Generating tree 0\n",
      "Depth = 1\n"
     ]
    },
    {
     "ename": "KeyboardInterrupt",
     "evalue": "",
     "output_type": "error",
     "traceback": [
      "\u001b[1;31m---------------------------------------------------------------------------\u001b[0m",
      "\u001b[1;31mKeyboardInterrupt\u001b[0m                         Traceback (most recent call last)",
      "\u001b[1;32m~\\AppData\\Local\\Temp\\ipykernel_7592\\148119534.py\u001b[0m in \u001b[0;36m<module>\u001b[1;34m\u001b[0m\n\u001b[0;32m      4\u001b[0m \u001b[0mmin_samples_split\u001b[0m \u001b[1;33m=\u001b[0m \u001b[1;36m2\u001b[0m\u001b[1;33m\u001b[0m\u001b[1;33m\u001b[0m\u001b[0m\n\u001b[0;32m      5\u001b[0m \u001b[1;33m\u001b[0m\u001b[0m\n\u001b[1;32m----> 6\u001b[1;33m \u001b[0mmodel\u001b[0m \u001b[1;33m=\u001b[0m \u001b[0mrandom_forest\u001b[0m\u001b[1;33m(\u001b[0m\u001b[0mX_train\u001b[0m\u001b[1;33m,\u001b[0m \u001b[0my_train\u001b[0m\u001b[1;33m,\u001b[0m \u001b[0mn_estimators\u001b[0m\u001b[1;33m,\u001b[0m \u001b[0mmax_depth\u001b[0m\u001b[1;33m,\u001b[0m \u001b[0mmin_samples_split\u001b[0m\u001b[1;33m,\u001b[0m \u001b[0mmax_features\u001b[0m\u001b[1;33m)\u001b[0m\u001b[1;33m\u001b[0m\u001b[1;33m\u001b[0m\u001b[0m\n\u001b[0m",
      "\u001b[1;32m~\\AppData\\Local\\Temp\\ipykernel_7592\\1466585024.py\u001b[0m in \u001b[0;36mrandom_forest\u001b[1;34m(X_train, y_train, n_estimators, max_depth, min_samples_split, max_features)\u001b[0m\n\u001b[0;32m     10\u001b[0m         \u001b[0mprint\u001b[0m\u001b[1;33m(\u001b[0m\u001b[1;34mf\"Generating tree {i}\"\u001b[0m\u001b[1;33m)\u001b[0m\u001b[1;33m\u001b[0m\u001b[1;33m\u001b[0m\u001b[0m\n\u001b[0;32m     11\u001b[0m         \u001b[0mX_bootstrap\u001b[0m\u001b[1;33m,\u001b[0m \u001b[0my_bootstrap\u001b[0m\u001b[1;33m,\u001b[0m \u001b[0mX_oob\u001b[0m\u001b[1;33m,\u001b[0m \u001b[0my_oob\u001b[0m \u001b[1;33m=\u001b[0m \u001b[0mdraw_bootstrap\u001b[0m\u001b[1;33m(\u001b[0m\u001b[0mX_train\u001b[0m\u001b[1;33m,\u001b[0m \u001b[0my_train\u001b[0m\u001b[1;33m)\u001b[0m\u001b[1;33m\u001b[0m\u001b[1;33m\u001b[0m\u001b[0m\n\u001b[1;32m---> 12\u001b[1;33m         \u001b[0mtree\u001b[0m \u001b[1;33m=\u001b[0m \u001b[0mbuild_tree\u001b[0m\u001b[1;33m(\u001b[0m\u001b[0mX_bootstrap\u001b[0m\u001b[1;33m,\u001b[0m \u001b[0my_bootstrap\u001b[0m\u001b[1;33m,\u001b[0m \u001b[0mmax_depth\u001b[0m\u001b[1;33m,\u001b[0m \u001b[0mmin_samples_split\u001b[0m\u001b[1;33m,\u001b[0m\u001b[0mmax_features\u001b[0m\u001b[1;33m)\u001b[0m\u001b[1;33m\u001b[0m\u001b[1;33m\u001b[0m\u001b[0m\n\u001b[0m\u001b[0;32m     13\u001b[0m         \u001b[0mtree_ls\u001b[0m\u001b[1;33m.\u001b[0m\u001b[0mappend\u001b[0m\u001b[1;33m(\u001b[0m\u001b[0mtree\u001b[0m\u001b[1;33m)\u001b[0m\u001b[1;33m\u001b[0m\u001b[1;33m\u001b[0m\u001b[0m\n\u001b[0;32m     14\u001b[0m         \u001b[0moob_error\u001b[0m \u001b[1;33m=\u001b[0m \u001b[0moob_score\u001b[0m\u001b[1;33m(\u001b[0m\u001b[0mtree\u001b[0m\u001b[1;33m,\u001b[0m \u001b[0mX_oob\u001b[0m\u001b[1;33m,\u001b[0m \u001b[0my_oob\u001b[0m\u001b[1;33m)\u001b[0m\u001b[1;33m\u001b[0m\u001b[1;33m\u001b[0m\u001b[0m\n",
      "\u001b[1;32m~\\AppData\\Local\\Temp\\ipykernel_7592\\1466585024.py\u001b[0m in \u001b[0;36mbuild_tree\u001b[1;34m(X_bootstrap, y_bootstrap, max_depth, min_samples_split, max_features)\u001b[0m\n\u001b[0;32m      1\u001b[0m \u001b[1;32mdef\u001b[0m \u001b[0mbuild_tree\u001b[0m\u001b[1;33m(\u001b[0m\u001b[0mX_bootstrap\u001b[0m\u001b[1;33m,\u001b[0m \u001b[0my_bootstrap\u001b[0m\u001b[1;33m,\u001b[0m \u001b[0mmax_depth\u001b[0m\u001b[1;33m,\u001b[0m \u001b[0mmin_samples_split\u001b[0m\u001b[1;33m,\u001b[0m \u001b[0mmax_features\u001b[0m\u001b[1;33m)\u001b[0m\u001b[1;33m:\u001b[0m\u001b[1;33m\u001b[0m\u001b[1;33m\u001b[0m\u001b[0m\n\u001b[0;32m      2\u001b[0m     \u001b[0mroot_node\u001b[0m \u001b[1;33m=\u001b[0m \u001b[0mfind_split_point\u001b[0m\u001b[1;33m(\u001b[0m\u001b[0mX_bootstrap\u001b[0m\u001b[1;33m,\u001b[0m \u001b[0my_bootstrap\u001b[0m\u001b[1;33m,\u001b[0m \u001b[0mmax_features\u001b[0m\u001b[1;33m)\u001b[0m\u001b[1;33m\u001b[0m\u001b[1;33m\u001b[0m\u001b[0m\n\u001b[1;32m----> 3\u001b[1;33m     \u001b[0msplit_node\u001b[0m\u001b[1;33m(\u001b[0m\u001b[0mroot_node\u001b[0m\u001b[1;33m,\u001b[0m \u001b[0mmax_features\u001b[0m\u001b[1;33m,\u001b[0m \u001b[0mmin_samples_split\u001b[0m\u001b[1;33m,\u001b[0m \u001b[0mmax_depth\u001b[0m\u001b[1;33m,\u001b[0m \u001b[1;36m1\u001b[0m\u001b[1;33m)\u001b[0m\u001b[1;33m\u001b[0m\u001b[1;33m\u001b[0m\u001b[0m\n\u001b[0m\u001b[0;32m      4\u001b[0m     \u001b[1;32mreturn\u001b[0m \u001b[0mroot_node\u001b[0m\u001b[1;33m\u001b[0m\u001b[1;33m\u001b[0m\u001b[0m\n\u001b[0;32m      5\u001b[0m \u001b[1;33m\u001b[0m\u001b[0m\n",
      "\u001b[1;32m~\\AppData\\Local\\Temp\\ipykernel_7592\\1281838316.py\u001b[0m in \u001b[0;36msplit_node\u001b[1;34m(node, max_features, min_samples_split, max_depth, depth)\u001b[0m\n\u001b[0;32m     27\u001b[0m         \u001b[0mnode\u001b[0m\u001b[1;33m[\u001b[0m\u001b[1;34m'left_split'\u001b[0m\u001b[1;33m]\u001b[0m \u001b[1;33m=\u001b[0m \u001b[0mnode\u001b[0m\u001b[1;33m[\u001b[0m\u001b[1;34m'right_split'\u001b[0m\u001b[1;33m]\u001b[0m \u001b[1;33m=\u001b[0m \u001b[0mterminal_node\u001b[0m\u001b[1;33m(\u001b[0m\u001b[0mleft_child\u001b[0m\u001b[1;33m)\u001b[0m\u001b[1;33m\u001b[0m\u001b[1;33m\u001b[0m\u001b[0m\n\u001b[0;32m     28\u001b[0m     \u001b[1;32melse\u001b[0m\u001b[1;33m:\u001b[0m\u001b[1;33m\u001b[0m\u001b[1;33m\u001b[0m\u001b[0m\n\u001b[1;32m---> 29\u001b[1;33m         \u001b[0mnode\u001b[0m\u001b[1;33m[\u001b[0m\u001b[1;34m'left_split'\u001b[0m\u001b[1;33m]\u001b[0m \u001b[1;33m=\u001b[0m \u001b[0mfind_split_point\u001b[0m\u001b[1;33m(\u001b[0m\u001b[0mleft_child\u001b[0m\u001b[1;33m[\u001b[0m\u001b[1;34m'X_bootstrap'\u001b[0m\u001b[1;33m]\u001b[0m\u001b[1;33m,\u001b[0m \u001b[0mleft_child\u001b[0m\u001b[1;33m[\u001b[0m\u001b[1;34m'y_bootstrap'\u001b[0m\u001b[1;33m]\u001b[0m\u001b[1;33m,\u001b[0m \u001b[0mmax_features\u001b[0m\u001b[1;33m)\u001b[0m\u001b[1;33m\u001b[0m\u001b[1;33m\u001b[0m\u001b[0m\n\u001b[0m\u001b[0;32m     30\u001b[0m         \u001b[0msplit_node\u001b[0m\u001b[1;33m(\u001b[0m\u001b[0mnode\u001b[0m\u001b[1;33m[\u001b[0m\u001b[1;34m'left_split'\u001b[0m\u001b[1;33m]\u001b[0m\u001b[1;33m,\u001b[0m \u001b[0mmax_features\u001b[0m\u001b[1;33m,\u001b[0m \u001b[0mmin_samples_split\u001b[0m\u001b[1;33m,\u001b[0m \u001b[0mmax_depth\u001b[0m\u001b[1;33m,\u001b[0m \u001b[0mdepth\u001b[0m \u001b[1;33m+\u001b[0m \u001b[1;36m1\u001b[0m\u001b[1;33m)\u001b[0m\u001b[1;33m\u001b[0m\u001b[1;33m\u001b[0m\u001b[0m\n\u001b[0;32m     31\u001b[0m \u001b[1;33m\u001b[0m\u001b[0m\n",
      "\u001b[1;32m~\\AppData\\Local\\Temp\\ipykernel_7592\\1105262371.py\u001b[0m in \u001b[0;36mfind_split_point\u001b[1;34m(X_bootstrap, y_bootstrap, max_features)\u001b[0m\n\u001b[0;32m     19\u001b[0m                     \u001b[1;32melse\u001b[0m\u001b[1;33m:\u001b[0m\u001b[1;33m\u001b[0m\u001b[1;33m\u001b[0m\u001b[0m\n\u001b[0;32m     20\u001b[0m                         \u001b[0mright_child\u001b[0m\u001b[1;33m[\u001b[0m\u001b[1;34m'X_bootstrap'\u001b[0m\u001b[1;33m]\u001b[0m\u001b[1;33m.\u001b[0m\u001b[0mappend\u001b[0m\u001b[1;33m(\u001b[0m\u001b[0mX_bootstrap\u001b[0m\u001b[1;33m[\u001b[0m\u001b[0mi\u001b[0m\u001b[1;33m]\u001b[0m\u001b[1;33m)\u001b[0m\u001b[1;33m\u001b[0m\u001b[1;33m\u001b[0m\u001b[0m\n\u001b[1;32m---> 21\u001b[1;33m                         \u001b[0mright_child\u001b[0m\u001b[1;33m[\u001b[0m\u001b[1;34m'y_bootstrap'\u001b[0m\u001b[1;33m]\u001b[0m\u001b[1;33m.\u001b[0m\u001b[0mappend\u001b[0m\u001b[1;33m(\u001b[0m\u001b[0my_bootstrap\u001b[0m\u001b[1;33m[\u001b[0m\u001b[0mi\u001b[0m\u001b[1;33m]\u001b[0m\u001b[1;33m)\u001b[0m\u001b[1;33m\u001b[0m\u001b[1;33m\u001b[0m\u001b[0m\n\u001b[0m\u001b[0;32m     22\u001b[0m \u001b[1;33m\u001b[0m\u001b[0m\n\u001b[0;32m     23\u001b[0m             \u001b[1;31m# split children for categorical variables\u001b[0m\u001b[1;33m\u001b[0m\u001b[1;33m\u001b[0m\u001b[0m\n",
      "\u001b[1;31mKeyboardInterrupt\u001b[0m: "
     ]
    }
   ],
   "source": [
    "n_estimators = 100\n",
    "max_features = int(42**0.5)\n",
    "max_depth = 20\n",
    "min_samples_split = 2\n",
    "\n",
    "model = random_forest(X_train, y_train, n_estimators, max_depth, min_samples_split, max_features)"
   ]
  },
  {
   "cell_type": "code",
   "execution_count": null,
   "id": "49383acb",
   "metadata": {},
   "outputs": [],
   "source": [
    "preds = predict_rf(model, X_test)\n",
    "acc = sum(preds == y_test) / len(y_test)\n",
    "print(\"Testing accuracy: {}\".format(np.round(acc,3)))"
   ]
  },
  {
   "cell_type": "code",
   "execution_count": 16,
   "id": "66c269ac",
   "metadata": {},
   "outputs": [
    {
     "data": {
      "text/plain": [
       "6.48074069840786"
      ]
     },
     "execution_count": 16,
     "metadata": {},
     "output_type": "execute_result"
    }
   ],
   "source": [
    "42**0.5"
   ]
  },
  {
   "cell_type": "code",
   "execution_count": null,
   "id": "8982fa31",
   "metadata": {},
   "outputs": [],
   "source": []
  }
 ],
 "metadata": {
  "kernelspec": {
   "display_name": "Python 3 (ipykernel)",
   "language": "python",
   "name": "python3"
  },
  "language_info": {
   "codemirror_mode": {
    "name": "ipython",
    "version": 3
   },
   "file_extension": ".py",
   "mimetype": "text/x-python",
   "name": "python",
   "nbconvert_exporter": "python",
   "pygments_lexer": "ipython3",
   "version": "3.9.13"
  }
 },
 "nbformat": 4,
 "nbformat_minor": 5
}
