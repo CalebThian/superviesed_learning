{
 "cells": [
  {
   "cell_type": "code",
   "execution_count": 1,
   "id": "cf51e655",
   "metadata": {},
   "outputs": [],
   "source": [
    "from naivebayes import NaiveBayesClassifier\n",
    "from randomforest import myRandomForestClassifier\n",
    "from sklearn.ensemble import RandomForestClassifier\n",
    "from xgboost import XGBClassifier\n",
    "import lightgbm as lgb\n",
    "from catboost import CatBoostClassifier\n",
    "from utils import classify,classify_k_fold"
   ]
  },
  {
   "cell_type": "code",
   "execution_count": 2,
   "id": "6a7eddf9",
   "metadata": {},
   "outputs": [],
   "source": [
    "k = [3,5,10]"
   ]
  },
  {
   "cell_type": "code",
   "execution_count": 3,
   "id": "85024686",
   "metadata": {},
   "outputs": [
    {
     "name": "stdout",
     "output_type": "stream",
     "text": [
      "NaiveBayesClassfier is created\n",
      "Naive Bayes Clasifier:\n",
      "Recall = 99.60%\n",
      "Precision = 6.43%\n",
      "Accuracy = 6.99%\n",
      "F1-score = 12.08%\n"
     ]
    },
    {
     "data": {
      "image/png": "[encoded data removed]",
      "text/plain": [
       "<Figure size 432x288 with 2 Axes>"
      ]
     },
     "metadata": {
      "needs_background": "light"
     },
     "output_type": "display_data"
    },
    {
     "name": "stdout",
     "output_type": "stream",
     "text": [
      "Recall = 99.60%\n",
      "Precision = 6.34%\n",
      "Accuracy = 6.86%\n",
      "F1-score = 11.93%\n",
      "Naive Bayes Clasifier: F1-score\n",
      "NaiveBayesClassfier is created\n",
      "NaiveBayesClassfier is created\n",
      "NaiveBayesClassfier is created\n",
      "->3-fold cross validation:0.12076298147073376\n",
      "NaiveBayesClassfier is created\n",
      "NaiveBayesClassfier is created\n",
      "NaiveBayesClassfier is created\n",
      "NaiveBayesClassfier is created\n",
      "NaiveBayesClassfier is created\n",
      "->5-fold cross validation:0.12076410821431682\n",
      "NaiveBayesClassfier is created\n",
      "NaiveBayesClassfier is created\n",
      "NaiveBayesClassfier is created\n",
      "NaiveBayesClassfier is created\n",
      "NaiveBayesClassfier is created\n",
      "NaiveBayesClassfier is created\n",
      "NaiveBayesClassfier is created\n",
      "NaiveBayesClassfier is created\n",
      "NaiveBayesClassfier is created\n",
      "NaiveBayesClassfier is created\n",
      "->10-fold cross validation:0.12076007584680264\n"
     ]
    },
    {
     "data": {
      "image/png": "[encoded data removed]",
      "text/plain": [
       "<Figure size 432x288 with 2 Axes>"
      ]
     },
     "metadata": {
      "needs_background": "light"
     },
     "output_type": "display_data"
    }
   ],
   "source": [
    "clf = NaiveBayesClassifier()\n",
    "name = \"Naive Bayes Clasifier\"\n",
    "classify(clf,name)\n",
    "classify_k_fold(clf,name,k)"
   ]
  },
  {
   "cell_type": "code",
   "execution_count": 3,
   "id": "6197b6e9",
   "metadata": {},
   "outputs": [
    {
     "name": "stdout",
     "output_type": "stream",
     "text": [
      "my Random Forest Classifier:\n",
      "OOB estimate: 0.06\n"
     ]
    },
    {
     "ename": "ZeroDivisionError",
     "evalue": "division by zero",
     "output_type": "error",
     "traceback": [
      "\u001b[1;31m---------------------------------------------------------------------------\u001b[0m",
      "\u001b[1;31mZeroDivisionError\u001b[0m                         Traceback (most recent call last)",
      "\u001b[1;32m~\\AppData\\Local\\Temp/ipykernel_2448/4030864866.py\u001b[0m in \u001b[0;36m<module>\u001b[1;34m\u001b[0m\n\u001b[0;32m      1\u001b[0m \u001b[0mclf\u001b[0m \u001b[1;33m=\u001b[0m \u001b[0mmyRandomForestClassifier\u001b[0m\u001b[1;33m(\u001b[0m\u001b[1;33m)\u001b[0m\u001b[1;33m\u001b[0m\u001b[1;33m\u001b[0m\u001b[0m\n\u001b[1;32m----> 2\u001b[1;33m \u001b[0mclassify\u001b[0m\u001b[1;33m(\u001b[0m\u001b[0mclf\u001b[0m\u001b[1;33m,\u001b[0m\u001b[1;34m\"my Random Forest Classifier\"\u001b[0m\u001b[1;33m)\u001b[0m\u001b[1;33m\u001b[0m\u001b[1;33m\u001b[0m\u001b[0m\n\u001b[0m",
      "\u001b[1;32mD:\\Course\\PhD\\Machine_Learning\\Assignment\\2\\superviesed_learning\\utils.py\u001b[0m in \u001b[0;36mclassify\u001b[1;34m(clf, name, data_path)\u001b[0m\n\u001b[0;32m     69\u001b[0m \u001b[1;33m\u001b[0m\u001b[0m\n\u001b[0;32m     70\u001b[0m     \u001b[0my_pred\u001b[0m \u001b[1;33m=\u001b[0m \u001b[0mclf\u001b[0m\u001b[1;33m.\u001b[0m\u001b[0mpredict\u001b[0m\u001b[1;33m(\u001b[0m\u001b[0mX_train\u001b[0m\u001b[1;33m)\u001b[0m\u001b[1;33m\u001b[0m\u001b[1;33m\u001b[0m\u001b[0m\n\u001b[1;32m---> 71\u001b[1;33m     \u001b[0mconf_mat\u001b[0m \u001b[1;33m=\u001b[0m \u001b[0mconfusion_matrix\u001b[0m\u001b[1;33m(\u001b[0m\u001b[0my_train\u001b[0m\u001b[1;33m,\u001b[0m\u001b[0my_pred\u001b[0m\u001b[1;33m)\u001b[0m\u001b[1;33m\u001b[0m\u001b[1;33m\u001b[0m\u001b[0m\n\u001b[0m\u001b[0;32m     72\u001b[0m     \u001b[0mvisualize_score\u001b[0m\u001b[1;33m(\u001b[0m\u001b[0mconf_mat\u001b[0m\u001b[1;33m)\u001b[0m\u001b[1;33m\u001b[0m\u001b[1;33m\u001b[0m\u001b[0m\n\u001b[0;32m     73\u001b[0m     \u001b[0mshow\u001b[0m\u001b[1;33m(\u001b[0m\u001b[1;33m)\u001b[0m\u001b[1;33m\u001b[0m\u001b[1;33m\u001b[0m\u001b[0m\n",
      "\u001b[1;32mD:\\Course\\PhD\\Machine_Learning\\Assignment\\2\\superviesed_learning\\utils.py\u001b[0m in \u001b[0;36mconfusion_matrix\u001b[1;34m(y_true, y_pred)\u001b[0m\n\u001b[0;32m     49\u001b[0m         \u001b[0mprecision\u001b[0m \u001b[1;33m=\u001b[0m \u001b[0mTP\u001b[0m\u001b[1;33m/\u001b[0m\u001b[1;33m(\u001b[0m\u001b[0mTP\u001b[0m\u001b[1;33m+\u001b[0m\u001b[0mFP\u001b[0m\u001b[1;33m)\u001b[0m\u001b[1;33m\u001b[0m\u001b[1;33m\u001b[0m\u001b[0m\n\u001b[0;32m     50\u001b[0m     \u001b[0maccuracy\u001b[0m \u001b[1;33m=\u001b[0m \u001b[1;33m(\u001b[0m\u001b[0mTP\u001b[0m\u001b[1;33m+\u001b[0m\u001b[0mTN\u001b[0m\u001b[1;33m)\u001b[0m\u001b[1;33m/\u001b[0m\u001b[1;33m(\u001b[0m\u001b[0mTP\u001b[0m\u001b[1;33m+\u001b[0m\u001b[0mTN\u001b[0m\u001b[1;33m+\u001b[0m\u001b[0mFP\u001b[0m\u001b[1;33m+\u001b[0m\u001b[0mFN\u001b[0m\u001b[1;33m)\u001b[0m\u001b[1;33m\u001b[0m\u001b[1;33m\u001b[0m\u001b[0m\n\u001b[1;32m---> 51\u001b[1;33m     \u001b[0mf1_score\u001b[0m \u001b[1;33m=\u001b[0m \u001b[1;36m2\u001b[0m\u001b[1;33m*\u001b[0m\u001b[0mrecall\u001b[0m\u001b[1;33m*\u001b[0m\u001b[0mprecision\u001b[0m\u001b[1;33m/\u001b[0m\u001b[1;33m(\u001b[0m\u001b[0mrecall\u001b[0m\u001b[1;33m+\u001b[0m\u001b[0mprecision\u001b[0m\u001b[1;33m)\u001b[0m\u001b[1;33m\u001b[0m\u001b[1;33m\u001b[0m\u001b[0m\n\u001b[0m\u001b[0;32m     52\u001b[0m     \u001b[0mprint\u001b[0m\u001b[1;33m(\u001b[0m\u001b[1;34m\"Recall = {0:.2%}\"\u001b[0m\u001b[1;33m.\u001b[0m\u001b[0mformat\u001b[0m\u001b[1;33m(\u001b[0m\u001b[0mrecall\u001b[0m\u001b[1;33m)\u001b[0m\u001b[1;33m)\u001b[0m\u001b[1;33m\u001b[0m\u001b[1;33m\u001b[0m\u001b[0m\n\u001b[0;32m     53\u001b[0m     \u001b[0mprint\u001b[0m\u001b[1;33m(\u001b[0m\u001b[1;34m\"Precision = {0:.2%}\"\u001b[0m\u001b[1;33m.\u001b[0m\u001b[0mformat\u001b[0m\u001b[1;33m(\u001b[0m\u001b[0mprecision\u001b[0m\u001b[1;33m)\u001b[0m\u001b[1;33m)\u001b[0m\u001b[1;33m\u001b[0m\u001b[1;33m\u001b[0m\u001b[0m\n",
      "\u001b[1;31mZeroDivisionError\u001b[0m: division by zero"
     ]
    }
   ],
   "source": [
    "clf = myRandomForestClassifier()\n",
    "name = \"my Random Forest Classifier\"\n",
    "classify(clf,name)\n",
    "classify_k_fold(clf,name,k)"
   ]
  },
  {
   "cell_type": "code",
   "execution_count": null,
   "id": "0df0bd86",
   "metadata": {},
   "outputs": [],
   "source": [
    "clf = RandomForestClassifier(n_estimators = 10,max_depth=3, random_state=0)\n",
    "name = \"Random Forest Classifier with 10 estimators and depth=3\"\n",
    "classify(clf,name)\n",
    "classify_k_fold(clf,name,k)"
   ]
  },
  {
   "cell_type": "code",
   "execution_count": null,
   "id": "d3270ceb",
   "metadata": {},
   "outputs": [],
   "source": [
    "clf = RandomForestClassifier(n_estimators = 100,max_depth=20, random_state=0)\n",
    "name = \"Random Forest Classifier with 100 estimators and depth=20\"\n",
    "classify(clf,name)\n",
    "classify_k_fold(clf,name,k)"
   ]
  },
  {
   "cell_type": "code",
   "execution_count": null,
   "id": "47dffe53",
   "metadata": {},
   "outputs": [],
   "source": [
    "clf = XGBClassifier()\n",
    "name = \"XGBoost Classifier\"\n",
    "classify(clf,name)\n",
    "classify_k_fold(clf,name,k)"
   ]
  },
  {
   "cell_type": "code",
   "execution_count": null,
   "id": "8fb1a4c6",
   "metadata": {},
   "outputs": [],
   "source": [
    "clf = CatBoostClassifier()\n",
    "name = \"CatBoost Classifier\"\n",
    "classify(clf,name)\n",
    "classify_k_fold(clf,name,k)"
   ]
  },
  {
   "cell_type": "code",
   "execution_count": null,
   "id": "70150f0f",
   "metadata": {},
   "outputs": [],
   "source": [
    "clf = lgb.LGBMClassifier(is_unbalance=True)\n",
    "classify(clf,\"Light Boost Classifier\")"
   ]
  }
 ],
 "metadata": {
  "kernelspec": {
   "display_name": "Python 3 (ipykernel)",
   "language": "python",
   "name": "python3"
  },
  "language_info": {
   "codemirror_mode": {
    "name": "ipython",
    "version": 3
   },
   "file_extension": ".py",
   "mimetype": "text/x-python",
   "name": "python",
   "nbconvert_exporter": "python",
   "pygments_lexer": "ipython3",
   "version": "3.8.5"
  }
 },
 "nbformat": 4,
 "nbformat_minor": 5
}
