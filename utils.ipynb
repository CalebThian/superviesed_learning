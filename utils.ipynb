{
 "cells": [
  {
   "cell_type": "code",
   "execution_count": 6,
   "id": "50638b6a",
   "metadata": {},
   "outputs": [],
   "source": [
    "import seaborn as sns\n",
    "import matplotlib.pyplot as plt\n",
    "from data import read_csv,train_test_split,data2XY"
   ]
  },
  {
   "cell_type": "code",
   "execution_count": 7,
   "id": "88a1be33",
   "metadata": {},
   "outputs": [],
   "source": [
    "def visualize_score(conf_mat):\n",
    "    conf_mat_flatten = [conf_mat[0][0],conf_mat[0][1],conf_mat[1][0],conf_mat[1][1]]\n",
    "    names = ['TN','FP','FN','TP']\n",
    "    counts = [\"{0:0.0f}\".format(value) for value in conf_mat_flatten]\n",
    "    total = conf_mat[0][0]+conf_mat[0][1]+conf_mat[1][0]+conf_mat[1][1]\n",
    "    percentages = [\"{0:.2%}\".format(value/total) for value in conf_mat_flatten]\n",
    "    labels = [f\"{n}\\n{c}\\n{p}\" for n, c, p in zip(names,counts,percentages)]\n",
    "    labels = [[labels[0],labels[1]],[labels[2],labels[3]]]\n",
    "    sns.heatmap(conf_mat, annot=labels, fmt='')\n",
    "    plt.xlabel('Predict', fontsize = 15) # x-axis label with fontsize 15\n",
    "    plt.ylabel('Truth', fontsize = 15) # y-axis label with fontsize 15"
   ]
  },
  {
   "cell_type": "code",
   "execution_count": 8,
   "id": "33e70838",
   "metadata": {},
   "outputs": [],
   "source": [
    "def data_process(path):\n",
    "    header,data,Dict = read_csv(path)\n",
    "    train,test,_ = train_test_split(data,test_size=0)\n",
    "    X_train,y_train = data2XY(train)\n",
    "    X_test,y_test = data2XY(test)\n",
    "    return X_train,y_train,X_test,y_test,Dict"
   ]
  },
  {
   "cell_type": "code",
   "execution_count": 5,
   "id": "d15301ea",
   "metadata": {},
   "outputs": [],
   "source": [
    "def confusion_matrix(y_true,y_pred):\n",
    "    TP = 0\n",
    "    TN = 0\n",
    "    FP = 0\n",
    "    FN = 0\n",
    "    for i,j in zip(y_true,y_pred):\n",
    "        if i==j:\n",
    "            if i == 1:\n",
    "                TP += 1\n",
    "            else:\n",
    "                TN += 1\n",
    "        else:\n",
    "            if j == 1:\n",
    "                FP += 1\n",
    "            else:\n",
    "                FN += 1\n",
    "    if TP==0:\n",
    "        recall = 0\n",
    "        precision = 0\n",
    "    else:\n",
    "        recall = TP/(TP+FN)\n",
    "        precision = TP/(TP+FP)\n",
    "    accuracy = (TP+TN)/(TP+TN+FP+FN)\n",
    "    print(\"Recall = {0:.2%}\".format(recall))\n",
    "    print(\"Precision = {0:.2%}\".format(precision))\n",
    "    print(\"Accuracy = {0:.2%}\".format(accuracy))\n",
    "    return [[TN,FP],[FN,TP]]"
   ]
  }
 ],
 "metadata": {
  "kernelspec": {
   "display_name": "Python 3 (ipykernel)",
   "language": "python",
   "name": "python3"
  },
  "language_info": {
   "codemirror_mode": {
    "name": "ipython",
    "version": 3
   },
   "file_extension": ".py",
   "mimetype": "text/x-python",
   "name": "python",
   "nbconvert_exporter": "python",
   "pygments_lexer": "ipython3",
   "version": "3.9.13"
  }
 },
 "nbformat": 4,
 "nbformat_minor": 5
}
