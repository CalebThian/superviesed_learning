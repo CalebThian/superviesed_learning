{
 "cells": [
  {
   "cell_type": "code",
   "execution_count": 1,
   "id": "626b953e",
   "metadata": {},
   "outputs": [],
   "source": [
    "train_path = \"..//data//train.csv\"\n",
    "test_path = \"..//data//test.csv\""
   ]
  },
  {
   "cell_type": "code",
   "execution_count": null,
   "id": "490f8a84",
   "metadata": {},
   "outputs": [],
   "source": [
    "def read_csv(path):\n",
    "    "
   ]
  },
  {
   "cell_type": "code",
   "execution_count": 8,
   "id": "8f82049b",
   "metadata": {},
   "outputs": [
    {
     "name": "stdout",
     "output_type": "stream",
     "text": [
      "('ID00001', ['0.515873589958172', '0.05', '0.644230769230769', 'C1', '4990', '1', 'A', 'M1', 'CNG', '60Nm@3500rpm', '40.36bhp@6000rpm', 'F8D Petrol Engine', '2', 'No', 'No', 'No', 'Yes', 'No', 'Drum', '796', '3', 'Manual', '5', 'Power', '4.6', '3445', '1515', '1475', '1185', 'No', 'No', 'No', 'No', 'No', 'No', 'No', 'Yes', 'No', 'No', 'No', 'Yes', '0', '0\\n'])\n"
     ]
    }
   ],
   "source": [
    "with open(train_path , 'r') as f:\n",
    "    results = []\n",
    "    for line in f:\n",
    "        words = line.split(',')\n",
    "        results.append((words[0], words[1:]))\n",
    "    print(results[1])"
   ]
  },
  {
   "cell_type": "code",
   "execution_count": null,
   "id": "c6f7b6cc",
   "metadata": {},
   "outputs": [],
   "source": []
  }
 ],
 "metadata": {
  "kernelspec": {
   "display_name": "Python 3 (ipykernel)",
   "language": "python",
   "name": "python3"
  },
  "language_info": {
   "codemirror_mode": {
    "name": "ipython",
    "version": 3
   },
   "file_extension": ".py",
   "mimetype": "text/x-python",
   "name": "python",
   "nbconvert_exporter": "python",
   "pygments_lexer": "ipython3",
   "version": "3.8.5"
  }
 },
 "nbformat": 4,
 "nbformat_minor": 5
}
