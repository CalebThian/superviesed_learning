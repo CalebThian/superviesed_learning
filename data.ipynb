{
 "cells": [
  {
   "cell_type": "code",
   "execution_count": 1,
   "id": "581e770a",
   "metadata": {},
   "outputs": [],
   "source": [
    "data_path = \"..//data//train.csv\""
   ]
  },
  {
   "cell_type": "code",
   "execution_count": 2,
   "id": "1b30bca9",
   "metadata": {},
   "outputs": [],
   "source": [
    "def str2num(data,test=False):\n",
    "    data[1] = float(data[1])\n",
    "    data[2] = float(data[2])\n",
    "    data[3] = float(data[3])\n",
    "    data[5] = int(data[5])\n",
    "    data[6] = int(data[6])\n",
    "    data[13] = int(data[13]) \n",
    "    data[20] = int(data[20])\n",
    "    data[21] = int(data[21])\n",
    "    data[23] = int(data[23])\n",
    "    data[25] = float(data[25])\n",
    "    data[26] = int(data[26])\n",
    "    data[27] = int(data[27])\n",
    "    data[28] = int(data[28])\n",
    "    data[29] = int(data[29])\n",
    "    data[42] = int(data[42])\n",
    "    if test==False:\n",
    "        data[43] = int(data[43])"
   ]
  },
  {
   "cell_type": "code",
   "execution_count": 3,
   "id": "c963ec55",
   "metadata": {},
   "outputs": [],
   "source": [
    "def label_encoder(results):\n",
    "    # categorical column [4,7,8,9,10,11,12,14,15,16,17,18,19,22,24,30,31,32,33,34,35,36,37,38,39,40,41]\n",
    "    cat = [4,7,8,9,10,11,12,14,15,16,17,18,19,22,24,30,31,32,33,34,35,36,37,38,39,40,41]\n",
    "    Dict=dict()\n",
    "        \n",
    "    for col in cat:\n",
    "        Dict[col] = dict()\n",
    "        counter = 0          \n",
    "        for r in results:\n",
    "            if r[col] not in Dict[col].keys():\n",
    "                Dict[col][r[col]]=counter\n",
    "                counter += 1\n",
    "            r[col] = Dict[col][r[col]]"
   ]
  },
  {
   "cell_type": "code",
   "execution_count": 4,
   "id": "3647051a",
   "metadata": {},
   "outputs": [],
   "source": [
    "def read_csv(path):\n",
    "    with open(path , 'r') as f:\n",
    "        header = []\n",
    "        results = []\n",
    "        for line in f:\n",
    "            if header == []:\n",
    "                header = line.split(',')\n",
    "                header[-1] = header[-1][:-1]\n",
    "            else:\n",
    "                words = line.split(',')\n",
    "                words[-1] = words[-1][:-1]\n",
    "                str2num(words)\n",
    "                results.append(words)\n",
    "        label_encoder(results)\n",
    "        return header,results"
   ]
  },
  {
   "cell_type": "code",
   "execution_count": 9,
   "id": "5720e4ab",
   "metadata": {},
   "outputs": [],
   "source": [
    "def train_test_split(data,val_size = 0.1, test_size = 0.1):\n",
    "    train = int(len(data)*(1-val_size-test_size))\n",
    "    val = int(len(data)*(1-test_size))\n",
    "    \n",
    "    train_set = data[:train]\n",
    "    val_set = data[train:val]\n",
    "    test_set = data[val:]\n",
    "    return train_set,val_set,test_set"
   ]
  },
  {
   "cell_type": "code",
   "execution_count": 11,
   "id": "c60943fb",
   "metadata": {},
   "outputs": [],
   "source": [
    "def data2XY(data):\n",
    "    X = []\n",
    "    y = []\n",
    "    for d in data:\n",
    "        X.append(d[1:-1]) # ID is excluded\n",
    "        y.append(d[-1])\n",
    "    return X,y"
   ]
  },
  {
   "cell_type": "code",
   "execution_count": 16,
   "id": "3160dbe6",
   "metadata": {},
   "outputs": [
    {
     "name": "stdout",
     "output_type": "stream",
     "text": [
      "46873 5859 5860\n"
     ]
    }
   ],
   "source": [
    "h,data = read_csv(data_path)\n",
    "train,val,test = train_test_split(data)\n",
    "print(len(train),len(val),len(test))\n",
    "X,y=data2XY(data)"
   ]
  }
 ],
 "metadata": {
  "kernelspec": {
   "display_name": "Python 3 (ipykernel)",
   "language": "python",
   "name": "python3"
  },
  "language_info": {
   "codemirror_mode": {
    "name": "ipython",
    "version": 3
   },
   "file_extension": ".py",
   "mimetype": "text/x-python",
   "name": "python",
   "nbconvert_exporter": "python",
   "pygments_lexer": "ipython3",
   "version": "3.8.5"
  }
 },
 "nbformat": 4,
 "nbformat_minor": 5
}
