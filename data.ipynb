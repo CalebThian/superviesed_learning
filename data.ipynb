{
 "cells": [
  {
   "cell_type": "code",
   "execution_count": 1,
   "id": "a1f8fd45",
   "metadata": {},
   "outputs": [],
   "source": [
    "train_path = \"..//data//train.csv\"\n",
    "test_path = \"..//data//test.csv\""
   ]
  },
  {
   "cell_type": "code",
   "execution_count": 20,
   "id": "1dc122c3",
   "metadata": {},
   "outputs": [],
   "source": [
    "def str2num(data):\n",
    "    data[1] = float(data[1])\n",
    "    data[2] = float(data[2])\n",
    "    data[3] = float(data[3])\n",
    "    data[5] = int(data[5])\n",
    "    data[6] = int(data[6])\n",
    "    data[13] = int(data[13]) \n",
    "    data[20] = int(data[20])\n",
    "    data[21] = int(data[21])\n",
    "    data[23] = int(data[23])\n",
    "    data[25] = float(data[25])\n",
    "    data[26] = int(data[26])\n",
    "    data[27] = int(data[27])\n",
    "    data[28] = int(data[28])\n",
    "    data[29] = int(data[29])\n",
    "    data[42] = int(data[42])\n",
    "    data[43] = int(data[43])"
   ]
  },
  {
   "cell_type": "code",
   "execution_count": 23,
   "id": "60370d21",
   "metadata": {},
   "outputs": [
    {
     "name": "stdout",
     "output_type": "stream",
     "text": [
      "0: ID00001\n",
      "1: 0.515873589958172\n",
      "2: 0.05\n",
      "3: 0.644230769230769\n",
      "4: C1\n",
      "5: 4990\n",
      "6: 1\n",
      "7: A\n",
      "8: M1\n",
      "9: CNG\n",
      "10: 60Nm@3500rpm\n",
      "11: 40.36bhp@6000rpm\n",
      "12: F8D Petrol Engine\n",
      "13: 2\n",
      "14: No\n",
      "15: No\n",
      "16: No\n",
      "17: Yes\n",
      "18: No\n",
      "19: Drum\n",
      "20: 796\n",
      "21: 3\n",
      "22: Manual\n",
      "23: 5\n",
      "24: Power\n",
      "25: 4.6\n",
      "26: 3445\n",
      "27: 1515\n",
      "28: 1475\n",
      "29: 1185\n",
      "30: No\n",
      "31: No\n",
      "32: No\n",
      "33: No\n",
      "34: No\n",
      "35: No\n",
      "36: No\n",
      "37: Yes\n",
      "38: No\n",
      "39: No\n",
      "40: No\n",
      "41: Yes\n",
      "42: 0\n",
      "43: 0\n"
     ]
    }
   ],
   "source": [
    "with open(train_path , 'r') as f:\n",
    "    header = []\n",
    "    results = []\n",
    "    for line in f:\n",
    "        if header == []:\n",
    "            header = line.split(',')\n",
    "            header[-1] = header[-1][:-1]\n",
    "        else:\n",
    "            words = line.split(',')\n",
    "            words[-1] = words[-1][:-1]\n",
    "            str2num(words)\n",
    "            results.append(words)\n",
    "    for i,d in enumerate(results[0]):\n",
    "        print(f\"{i}: {d}\")"
   ]
  },
  {
   "cell_type": "code",
   "execution_count": null,
   "id": "c2ff338d",
   "metadata": {},
   "outputs": [],
   "source": [
    "def label_encoder(results):\n",
    "    # categorical column [4,7,8,9,10,11,12,14,15,16,17,18,19,22,24,30,31,32,33,34,35,36,37,38,39,40,41]\n",
    "    cat = [4,7,8,9,10,11,12,14,15,16,17,18,19,22,24,30,31,32,33,34,35,36,37,38,39,40,41]\n",
    "    for col in cat:\n",
    "        Dict = dict()\n",
    "        counter = 0\n",
    "        for r in results:\n",
    "            if r[col] not in Dict.keys():\n",
    "                Dict[r[col]]=counter\n",
    "                counter += 1\n",
    "            r[col] = Dict[r[col]]"
   ]
  },
  {
   "cell_type": "code",
   "execution_count": null,
   "id": "0a5aaa0d",
   "metadata": {},
   "outputs": [],
   "source": []
  }
 ],
 "metadata": {
  "kernelspec": {
   "display_name": "Python 3 (ipykernel)",
   "language": "python",
   "name": "python3"
  },
  "language_info": {
   "codemirror_mode": {
    "name": "ipython",
    "version": 3
   },
   "file_extension": ".py",
   "mimetype": "text/x-python",
   "name": "python",
   "nbconvert_exporter": "python",
   "pygments_lexer": "ipython3",
   "version": "3.8.5"
  }
 },
 "nbformat": 4,
 "nbformat_minor": 5
}
