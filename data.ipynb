{
 "cells": [
  {
   "cell_type": "code",
   "execution_count": 1,
   "id": "581e770a",
   "metadata": {},
   "outputs": [],
   "source": [
    "data_path = \"..//data//train.csv\""
   ]
  },
  {
   "cell_type": "code",
   "execution_count": 2,
   "id": "1b30bca9",
   "metadata": {},
   "outputs": [],
   "source": [
    "def str2num(data,test=False):\n",
    "    data[1] = float(data[1])\n",
    "    data[2] = float(data[2])\n",
    "    data[3] = float(data[3])\n",
    "    data[5] = int(data[5])\n",
    "    data[6] = int(data[6])\n",
    "    data[13] = int(data[13]) \n",
    "    data[20] = int(data[20])\n",
    "    data[21] = int(data[21])\n",
    "    data[23] = int(data[23])\n",
    "    data[25] = float(data[25])\n",
    "    data[26] = int(data[26])\n",
    "    data[27] = int(data[27])\n",
    "    data[28] = int(data[28])\n",
    "    data[29] = int(data[29])\n",
    "    data[42] = int(data[42])\n",
    "    if test==False:\n",
    "        data[43] = int(data[43])"
   ]
  },
  {
   "cell_type": "code",
   "execution_count": 3,
   "id": "c963ec55",
   "metadata": {},
   "outputs": [],
   "source": [
    "def label_encoder(results):\n",
    "    # categorical column [4,7,8,9,10,11,12,14,15,16,17,18,19,22,24,30,31,32,33,34,35,36,37,38,39,40,41]\n",
    "    cat = [4,7,8,9,10,11,12,14,15,16,17,18,19,22,24,30,31,32,33,34,35,36,37,38,39,40,41]\n",
    "    Dict=dict()\n",
    "        \n",
    "    for col in cat:\n",
    "        Dict[col] = dict()\n",
    "        counter = 0          \n",
    "        for r in results:\n",
    "            if r[col] not in Dict[col].keys():\n",
    "                Dict[col][r[col]]=counter\n",
    "                counter += 1\n",
    "            r[col] = Dict[col][r[col]]\n",
    "    return Dict"
   ]
  },
  {
   "cell_type": "code",
   "execution_count": 4,
   "id": "3647051a",
   "metadata": {},
   "outputs": [],
   "source": [
    "def read_csv(path):\n",
    "    with open(path , 'r') as f:\n",
    "        header = []\n",
    "        results = []\n",
    "        for line in f:\n",
    "            if header == []:\n",
    "                header = line.split(',')\n",
    "                header[-1] = header[-1][:-1]\n",
    "            else:\n",
    "                words = line.split(',')\n",
    "                words[-1] = words[-1][:-1]\n",
    "                str2num(words)\n",
    "                results.append(words)\n",
    "        Dict=label_encoder(results)\n",
    "        return header,results,Dict"
   ]
  },
  {
   "cell_type": "code",
   "execution_count": 5,
   "id": "5720e4ab",
   "metadata": {},
   "outputs": [],
   "source": [
    "def train_test_split(data,val_size = 0.1, test_size = 0.1):\n",
    "    train = int(len(data)*(1-val_size-test_size))\n",
    "    val = int(len(data)*(1-test_size))\n",
    "    \n",
    "    train_set = data[:train]\n",
    "    val_set = data[train:val]\n",
    "    test_set = data[val:]\n",
    "    return train_set,val_set,test_set"
   ]
  },
  {
   "cell_type": "code",
   "execution_count": 6,
   "id": "c60943fb",
   "metadata": {},
   "outputs": [],
   "source": [
    "def data2XY(data):\n",
    "    X = []\n",
    "    y = []\n",
    "    for d in data:\n",
    "        X.append(d[1:-1]) # ID is excluded\n",
    "        y.append(d[-1])\n",
    "    return X,y"
   ]
  },
  {
   "cell_type": "code",
   "execution_count": 7,
   "id": "3160dbe6",
   "metadata": {},
   "outputs": [
    {
     "name": "stdout",
     "output_type": "stream",
     "text": [
      "46873 5859 5860\n"
     ]
    }
   ],
   "source": [
    "h,data,Dict = read_csv(data_path)\n",
    "train,val,test = train_test_split(data)\n",
    "print(len(train),len(val),len(test))\n",
    "X,y=data2XY(data)"
   ]
  },
  {
   "cell_type": "code",
   "execution_count": 8,
   "id": "ec7cf3aa",
   "metadata": {},
   "outputs": [
    {
     "name": "stdout",
     "output_type": "stream",
     "text": [
      "4 {'C1': 0, 'C2': 1, 'C3': 2, 'C4': 3, 'C5': 4, 'C6': 5, 'C7': 6, 'C8': 7, 'C9': 8, 'C10': 9, 'C11': 10, 'C12': 11, 'C13': 12, 'C14': 13, 'C15': 14, 'C16': 15, 'C17': 16, 'C18': 17, 'C19': 18, 'C20': 19, 'C21': 20, 'C22': 21}\n",
      "7 {'A': 0, 'C1': 1, 'C2': 2, 'B2': 3, 'B1': 4, 'Utility': 5}\n",
      "8 {'M1': 0, 'M2': 1, 'M3': 2, 'M4': 3, 'M5': 4, 'M6': 5, 'M7': 6, 'M8': 7, 'M9': 8, 'M10': 9, 'M11': 10}\n",
      "9 {'CNG': 0, 'Petrol': 1, 'Diesel': 2}\n",
      "10 {'60Nm@3500rpm': 0, '113Nm@4400rpm': 1, '91Nm@4250rpm': 2, '250Nm@2750rpm': 3, '200Nm@3000rpm': 4, '82.1Nm@3400rpm': 5, '200Nm@1750rpm': 6, '85Nm@3000rpm': 7, '170Nm@4000rpm': 8}\n",
      "11 {'40.36bhp@6000rpm': 0, '88.50bhp@6000rpm': 1, '67.06bhp@5500rpm': 2, '113.45bhp@4000rpm': 3, '88.77bhp@4000rpm': 4, '55.92bhp@5300rpm': 5, '97.89bhp@3600rpm': 6, '61.68bhp@6000rpm': 7, '118.36bhp@5500rpm': 8}\n",
      "12 {'F8D Petrol Engine': 0, '1.2 L K12N Dualjet': 1, '1.0 SCe': 2, '1.5 L U2 CRDi': 3, '1.5 Turbocharged Revotorq': 4, 'K Series Dual jet': 5, '1.2 L K Series Engine': 6, 'K10C': 7, 'i-DTEC': 8, 'G12B': 9, '1.5 Turbocharged Revotron': 10}\n",
      "14 {'No': 0, 'Yes': 1}\n",
      "15 {'No': 0, 'Yes': 1}\n",
      "16 {'No': 0, 'Yes': 1}\n",
      "17 {'Yes': 0, 'No': 1}\n",
      "18 {'No': 0, 'Yes': 1}\n",
      "19 {'Drum': 0, 'Disc': 1}\n",
      "22 {'Manual': 0, 'Automatic': 1}\n",
      "24 {'Power': 0, 'Electric': 1, 'Manual': 2}\n",
      "30 {'No': 0, 'Yes': 1}\n",
      "31 {'No': 0, 'Yes': 1}\n",
      "32 {'No': 0, 'Yes': 1}\n",
      "33 {'No': 0, 'Yes': 1}\n",
      "34 {'No': 0, 'Yes': 1}\n",
      "35 {'No': 0, 'Yes': 1}\n",
      "36 {'No': 0, 'Yes': 1}\n",
      "37 {'Yes': 0, 'No': 1}\n",
      "38 {'No': 0, 'Yes': 1}\n",
      "39 {'No': 0, 'Yes': 1}\n",
      "40 {'No': 0, 'Yes': 1}\n",
      "41 {'Yes': 0, 'No': 1}\n"
     ]
    }
   ],
   "source": [
    "for k,v in Dict.items():\n",
    "    print(k,v)"
   ]
  },
  {
   "cell_type": "code",
   "execution_count": null,
   "id": "e0a87b89",
   "metadata": {},
   "outputs": [],
   "source": []
  }
 ],
 "metadata": {
  "kernelspec": {
   "display_name": "Python 3 (ipykernel)",
   "language": "python",
   "name": "python3"
  },
  "language_info": {
   "codemirror_mode": {
    "name": "ipython",
    "version": 3
   },
   "file_extension": ".py",
   "mimetype": "text/x-python",
   "name": "python",
   "nbconvert_exporter": "python",
   "pygments_lexer": "ipython3",
   "version": "3.9.13"
  }
 },
 "nbformat": 4,
 "nbformat_minor": 5
}
