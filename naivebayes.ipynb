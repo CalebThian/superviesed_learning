{
 "cells": [
  {
   "cell_type": "code",
   "execution_count": 15,
   "id": "314775f6",
   "metadata": {},
   "outputs": [],
   "source": [
    "from utils import classify"
   ]
  },
  {
   "cell_type": "code",
   "execution_count": 16,
   "id": "4af28531",
   "metadata": {},
   "outputs": [],
   "source": [
    "class NaiveBayesClassifier:\n",
    "    def __init__(self):\n",
    "        self.cat = [3,6,7,8,9,10,11,13,14,15,16,17,18,21,23,29,30,31,32,33,34,35,36,37,38,39,40]\n",
    "        self.num = []\n",
    "        self.e = 2.71828182846\n",
    "        self.pi = 3.14159265359\n",
    "        for i in range(42): #ID and is_claim is excluded\n",
    "            if i not in self.cat:\n",
    "                self.num.append(i)\n",
    "        print(\"NaiveBayesClassfier is created\")\n",
    "        \n",
    "    def fit(self,X,y):\n",
    "        self.data = X\n",
    "        self.y = y\n",
    "        self.posterior = dict()\n",
    "        self.claim = [0,0] #Calculation of is_claim in categorical fit\n",
    "        for i,d in enumerate(self.data):\n",
    "            claim = self.y[i]\n",
    "            self.claim[claim] += 1 \n",
    "        self.categorical_prob()\n",
    "        self.numerical_prob()\n",
    "        \n",
    "    \n",
    "    def categorical_prob(self):\n",
    "        # Initialize\n",
    "        for c in self.cat:\n",
    "            self.posterior[c] = dict()\n",
    "        \n",
    "        for i,d in enumerate(self.data):\n",
    "            claim = self.y[i]\n",
    "            for c in self.cat:\n",
    "                if d[c] not in self.posterior[c].keys():\n",
    "                    self.posterior[c][d[c]]=[0,0]\n",
    "                self.posterior[c][d[c]][claim] += 1\n",
    "        \n",
    "        # Assume all features are independent\n",
    "        # P(x_i|C_j) = count(x_i & C_j)/count(C_j)\n",
    "        for k,v in self.posterior.items():\n",
    "            for x,count in v.items():\n",
    "                count[0] = count[0]/self.claim[0]\n",
    "                count[1] = count[1]/self.claim[1]\n",
    "            #print(k,v)\n",
    "        \n",
    "    def numerical_prob(self):\n",
    "        # Assume all the continuous features are gaussian distribution\n",
    "        # take all the data into a list\n",
    "        subdata = dict()\n",
    "        for c in self.num:\n",
    "            # The first subarray store the data of is_claim=0, the second store the data of is_claim=1\n",
    "            subdata[c] = [[0],[0]] # The first element of each subarray is the sum of the rest elements\n",
    "\n",
    "        for i,d in enumerate(self.data):\n",
    "            for c in self.num:\n",
    "                claim = self.y[i]\n",
    "                subdata[c][claim][0] += d[c]\n",
    "                subdata[c][claim].append(d[c])\n",
    "\n",
    "        # Calculate mean and variance\n",
    "        for c in self.num:\n",
    "            self.posterior[c] = [[0,1],[0,1]] # mean and variance of is_claim = 0, mean and variance of is_claim = 1\n",
    "            for i in range(2):\n",
    "                mean = subdata[c][i][0]/(len(subdata[c][i])-1)\n",
    "                variance = 0\n",
    "                for j in range(1,len(subdata[c][i])):\n",
    "                    variance += ((subdata[c][i][j]-mean)**2)\n",
    "                variance /= (len(subdata[c][i])-1)\n",
    "                self.posterior[c][i] = [mean,variance]\n",
    "                \n",
    "    \n",
    "    def predict_one(self,data):\n",
    "        p0 = 1\n",
    "        p1 = 1\n",
    "        for c in self.cat:\n",
    "            p0 *= self.posterior[c][data[c]][0]\n",
    "            p1 *= self.posterior[c][data[c]][1]\n",
    "        \n",
    "        for n in self.num:\n",
    "            mean0 = self.posterior[c][0][0]\n",
    "            var0 = self.posterior[c][0][1]\n",
    "            mean1 = self.posterior[c][1][0]\n",
    "            var1 = self.posterior[c][1][1]\n",
    "            p0 *= (self.e**(-((data[c]-mean0)**2)/2/var0)/(2*self.pi*var0)**0.5)\n",
    "            p1 *= (self.e**(-((data[c]-mean1)**2)/2/var1)/(2*self.pi*var1)**0.5)\n",
    "            #if p0>p1:\n",
    "            #    cmp = '>'\n",
    "            #else:\n",
    "            #    cmp = '<'\n",
    "            #print(f\"{p0}{cmp}{p1}\")\n",
    "        \n",
    "        p0 *= self.claim[0]/(self.claim[0]+self.claim[1])\n",
    "        p1 *= self.claim[1]/(self.claim[0]+self.claim[1])\n",
    "        if p0>p1:\n",
    "            return 0\n",
    "        else:\n",
    "            return 1\n",
    "        \n",
    "    def score(self,X,y_true):\n",
    "        y_pred = []\n",
    "\n",
    "        for x in X:\n",
    "            y_pred.append(self.predict_one(d))\n",
    "        \n",
    "        return confusion_matrix(y_true,y_pred)\n",
    "    \n",
    "    def predict(self,data):\n",
    "        y_pred = []\n",
    "        for d in data:\n",
    "            y_pred.append(self.predict_one(d))\n",
    "        return y_pred"
   ]
  },
  {
   "cell_type": "code",
   "execution_count": 17,
   "id": "eb93fe6f",
   "metadata": {},
   "outputs": [
    {
     "name": "stdout",
     "output_type": "stream",
     "text": [
      "NaiveBayesClassfier is created\n",
      "Naive Bayes Clasifier:\n",
      "Recall = 99.62%\n",
      "Precision = 6.48%\n",
      "Accuracy = 7.03%\n"
     ]
    },
    {
     "data": {
      "image/png": "[encoded data removed]",
      "text/plain": [
       "<Figure size 432x288 with 2 Axes>"
      ]
     },
     "metadata": {
      "needs_background": "light"
     },
     "output_type": "display_data"
    },
    {
     "name": "stdout",
     "output_type": "stream",
     "text": [
      "Recall = 99.41%\n",
      "Precision = 5.77%\n",
      "Accuracy = 6.35%\n"
     ]
    },
    {
     "data": {
      "image/png": "[encoded data removed]",
      "text/plain": [
       "<Figure size 432x288 with 2 Axes>"
      ]
     },
     "metadata": {
      "needs_background": "light"
     },
     "output_type": "display_data"
    }
   ],
   "source": [
    "clf = NaiveBayesClassifier()\n",
    "classify(clf,\"Naive Bayes Clasifier\")"
   ]
  },
  {
   "cell_type": "code",
   "execution_count": null,
   "id": "5d6beda8",
   "metadata": {},
   "outputs": [],
   "source": []
  }
 ],
 "metadata": {
  "kernelspec": {
   "display_name": "Python 3 (ipykernel)",
   "language": "python",
   "name": "python3"
  },
  "language_info": {
   "codemirror_mode": {
    "name": "ipython",
    "version": 3
   },
   "file_extension": ".py",
   "mimetype": "text/x-python",
   "name": "python",
   "nbconvert_exporter": "python",
   "pygments_lexer": "ipython3",
   "version": "3.8.5"
  }
 },
 "nbformat": 4,
 "nbformat_minor": 5
}
