{
 "cells": [
  {
   "cell_type": "code",
   "execution_count": 1,
   "id": "be6a3192",
   "metadata": {},
   "outputs": [],
   "source": [
    "from data import read_csv"
   ]
  },
  {
   "cell_type": "code",
   "execution_count": 2,
   "id": "c3699593",
   "metadata": {},
   "outputs": [],
   "source": [
    "train_path = \"..//data//train.csv\"\n",
    "test_path = \"..//data//test.csv\""
   ]
  },
  {
   "cell_type": "code",
   "execution_count": 3,
   "id": "a56d7be5",
   "metadata": {},
   "outputs": [
    {
     "name": "stdout",
     "output_type": "stream",
     "text": [
      "['ID58593', 0.341731678878033, 0.0, 0.586538461538462, 0, 4076, 1, 0, 0, 0, 0, 0, 0, 2, 0, 0, 0, 0, 0, 0, 796, 3, 0, 5, 0, 4.6, 3445, 1515, 1475, 1185, 0, 0, 0, 0, 0, 0, 0, 0, 0, 0, 0, 0, 0]\n"
     ]
    }
   ],
   "source": [
    "header,train = read_csv(train_path)\n",
    "_,test = read_csv(test_path,test=True)\n",
    "print(test[0])"
   ]
  },
  {
   "cell_type": "code",
   "execution_count": 4,
   "id": "d0b39f1f",
   "metadata": {},
   "outputs": [],
   "source": [
    "class NaiveBayesClassfier:\n",
    "    def __init__():\n",
    "        print(\"NaiveBayesClassfier is created\")"
   ]
  },
  {
   "cell_type": "code",
   "execution_count": null,
   "id": "17a3650b",
   "metadata": {},
   "outputs": [],
   "source": [
    "clf = NaiveBayesClaasifier"
   ]
  }
 ],
 "metadata": {
  "kernelspec": {
   "display_name": "Python 3 (ipykernel)",
   "language": "python",
   "name": "python3"
  },
  "language_info": {
   "codemirror_mode": {
    "name": "ipython",
    "version": 3
   },
   "file_extension": ".py",
   "mimetype": "text/x-python",
   "name": "python",
   "nbconvert_exporter": "python",
   "pygments_lexer": "ipython3",
   "version": "3.8.5"
  }
 },
 "nbformat": 4,
 "nbformat_minor": 5
}
