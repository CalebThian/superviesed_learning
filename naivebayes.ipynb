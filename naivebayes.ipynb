{
 "cells": [
  {
   "cell_type": "code",
   "execution_count": 2,
   "id": "314775f6",
   "metadata": {},
   "outputs": [],
   "source": [
    "from data import read_csv"
   ]
  },
  {
   "cell_type": "code",
   "execution_count": 3,
   "id": "f7de21f1",
   "metadata": {},
   "outputs": [],
   "source": [
    "train_path = \"..//data//train.csv\"\n",
    "test_path = \"..//data//test.csv\""
   ]
  },
  {
   "cell_type": "code",
   "execution_count": 4,
   "id": "2cc9274f",
   "metadata": {},
   "outputs": [
    {
     "name": "stdout",
     "output_type": "stream",
     "text": [
      "['ID58593', 0.341731678878033, 0.0, 0.586538461538462, 0, 4076, 1, 0, 0, 0, 0, 0, 0, 2, 0, 0, 0, 0, 0, 0, 796, 3, 0, 5, 0, 4.6, 3445, 1515, 1475, 1185, 0, 0, 0, 0, 0, 0, 0, 0, 0, 0, 0, 0, 0]\n"
     ]
    }
   ],
   "source": [
    "header,train = read_csv(train_path)\n",
    "_,test = read_csv(test_path,test=True)\n",
    "print(test[0])"
   ]
  },
  {
   "cell_type": "code",
   "execution_count": 37,
   "id": "4af28531",
   "metadata": {},
   "outputs": [],
   "source": [
    "class NaiveBayesClassifier:\n",
    "    def __init__(self):\n",
    "        self.cat = [4,7,8,9,10,11,12,14,15,16,17,18,19,22,24,30,31,32,33,34,35,36,37,38,39,40,41]\n",
    "        self.num = []\n",
    "        for i in range(1,43): #ID and is_claim is excluded\n",
    "            if i not in self.cat:\n",
    "                self.num.append(i)\n",
    "        print(\"NaiveBayesClassfier is created\")\n",
    "        \n",
    "    def fit(self,data):\n",
    "        self.data = data\n",
    "        self.posterior = dict()\n",
    "        self.claim = [0,0] #Calculation of is_claim in categorical fit\n",
    "        for d in self.data:\n",
    "            claim = d[43]\n",
    "            self.claim[claim] += 1 \n",
    "        self.categorical_prob()\n",
    "        self.numerical_prob()\n",
    "        \n",
    "    \n",
    "    def categorical_prob(self):\n",
    "        # Initialize\n",
    "        for c in self.cat:\n",
    "            self.posterior[c] = dict()\n",
    "        \n",
    "        for d in self.data:\n",
    "            claim = d[43]\n",
    "            for c in self.cat:\n",
    "                if d[c] not in self.posterior[c].keys():\n",
    "                    self.posterior[c][d[c]]=[0,0]\n",
    "                self.posterior[c][d[c]][claim] += 1\n",
    "        \n",
    "        # Assume all features are independent\n",
    "        # P(x_i|C_j) = count(x_i & C_j)/count(C_j)\n",
    "        for k,v in self.posterior.items():\n",
    "            for x,count in v.items():\n",
    "                count[0] = count[0]/self.claim[0]\n",
    "                count[1] = count[1]/self.claim[1]\n",
    "            #print(k,v)\n",
    "        \n",
    "    def numerical_prob(self):\n",
    "        # Assume all the continuous features are gaussian distribution\n",
    "        # take all the data into a list\n",
    "        subdata = dict()\n",
    "        for c in self.num:\n",
    "            # The first subarray store the data of is_claim=0, the second store the data of is_claim=1\n",
    "            subdata[c] = [[0],[0]] # The first element of each subarray is the sum of the rest elements\n",
    "\n",
    "        for d in self.data:\n",
    "            for c in self.num:\n",
    "                claim = d[43]\n",
    "                subdata[c][claim][0] += d[c]\n",
    "                subdata[c][claim].append(d[c])\n",
    "\n",
    "        # Calculate mean and variance\n",
    "        for c in self.num:\n",
    "            self.posterior[c] = [[0,1],[0,1]] # mean and variance of is_claim = 1, mean and variance of is_claim = 1\n",
    "            #Check total data is correct or not\n",
    "            for i in range(2):\n",
    "                mean = subdata[c][i][0]/len(subdata[c][i])-1\n",
    "                variance = 0\n",
    "                for j in range(1,len(subdata[c][i])):\n",
    "                    variance += (subdata[c][i][j]**2)\n",
    "                variance = variance/(len(subdata[c][i])-1)-mean**2\n",
    "                self.posterior[c][i] = [mean,variance]\n",
    "        '''\n",
    "        for k,v in self.posterior.items():\n",
    "            if k in self.num:\n",
    "                print(v)\n",
    "        '''"
   ]
  },
  {
   "cell_type": "code",
   "execution_count": 38,
   "id": "8e8d7221",
   "metadata": {},
   "outputs": [
    {
     "name": "stdout",
     "output_type": "stream",
     "text": [
      "NaiveBayesClassfier is created\n"
     ]
    }
   ],
   "source": [
    "clf = NaiveBayesClassifier()\n",
    "clf.fit(train)"
   ]
  },
  {
   "cell_type": "code",
   "execution_count": 7,
   "id": "2f5167d0",
   "metadata": {},
   "outputs": [
    {
     "data": {
      "text/plain": [
       "[['ID00001',\n",
       "  0.515873589958172,\n",
       "  0.05,\n",
       "  0.644230769230769,\n",
       "  0,\n",
       "  4990,\n",
       "  1,\n",
       "  0,\n",
       "  0,\n",
       "  0,\n",
       "  0,\n",
       "  0,\n",
       "  0,\n",
       "  2,\n",
       "  0,\n",
       "  0,\n",
       "  0,\n",
       "  0,\n",
       "  0,\n",
       "  0,\n",
       "  796,\n",
       "  3,\n",
       "  0,\n",
       "  5,\n",
       "  0,\n",
       "  4.6,\n",
       "  3445,\n",
       "  1515,\n",
       "  1475,\n",
       "  1185,\n",
       "  0,\n",
       "  0,\n",
       "  0,\n",
       "  0,\n",
       "  0,\n",
       "  0,\n",
       "  0,\n",
       "  0,\n",
       "  0,\n",
       "  0,\n",
       "  0,\n",
       "  0,\n",
       "  0,\n",
       "  0]]"
      ]
     },
     "execution_count": 7,
     "metadata": {},
     "output_type": "execute_result"
    }
   ],
   "source": [
    "train[:2][:-1]"
   ]
  },
  {
   "cell_type": "code",
   "execution_count": null,
   "id": "eb19108c",
   "metadata": {},
   "outputs": [],
   "source": []
  }
 ],
 "metadata": {
  "kernelspec": {
   "display_name": "Python 3 (ipykernel)",
   "language": "python",
   "name": "python3"
  },
  "language_info": {
   "codemirror_mode": {
    "name": "ipython",
    "version": 3
   },
   "file_extension": ".py",
   "mimetype": "text/x-python",
   "name": "python",
   "nbconvert_exporter": "python",
   "pygments_lexer": "ipython3",
   "version": "3.8.5"
  }
 },
 "nbformat": 4,
 "nbformat_minor": 5
}
