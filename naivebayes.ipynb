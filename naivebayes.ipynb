{
 "cells": [
  {
   "cell_type": "code",
   "execution_count": 1,
   "id": "314775f6",
   "metadata": {},
   "outputs": [],
   "source": [
    "from data import read_csv"
   ]
  },
  {
   "cell_type": "code",
   "execution_count": 2,
   "id": "f7de21f1",
   "metadata": {},
   "outputs": [],
   "source": [
    "train_path = \"..//data//train.csv\"\n",
    "test_path = \"..//data//test.csv\""
   ]
  },
  {
   "cell_type": "code",
   "execution_count": 3,
   "id": "2cc9274f",
   "metadata": {},
   "outputs": [
    {
     "name": "stdout",
     "output_type": "stream",
     "text": [
      "['ID58593', 0.341731678878033, 0.0, 0.586538461538462, 0, 4076, 1, 0, 0, 0, 0, 0, 0, 2, 0, 0, 0, 0, 0, 0, 796, 3, 0, 5, 0, 4.6, 3445, 1515, 1475, 1185, 0, 0, 0, 0, 0, 0, 0, 0, 0, 0, 0, 0, 0]\n"
     ]
    }
   ],
   "source": [
    "header,train = read_csv(train_path)\n",
    "_,test = read_csv(test_path,test=True)\n",
    "print(test[0])"
   ]
  },
  {
   "cell_type": "code",
   "execution_count": 26,
   "id": "4af28531",
   "metadata": {},
   "outputs": [],
   "source": [
    "class NaiveBayesClassifier:\n",
    "    def __init__(self):\n",
    "        print(\"NaiveBayesClassfier is created\")\n",
    "        \n",
    "    def fit(self,data):\n",
    "        self.data = data\n",
    "        self.categorical_fit()\n",
    "    \n",
    "    def categorical_fit(self):\n",
    "        self.cat = [4,7,8,9,10,11,12,14,15,16,17,18,19,22,24,30,31,32,33,34,35,36,37,38,39,40,41]\n",
    "        self.posterior = dict()\n",
    "        \n",
    "        # Initialize\n",
    "        for c in self.cat:\n",
    "            self.posterior[c] = [0,0]\n",
    "        \n",
    "        for d in self.data:\n",
    "            claim = d[43]\n",
    "            for c in self.cat:\n",
    "                self.posterior[c][claim] += 1\n",
    "        \n",
    "        for k,v in self.posterior.items():\n",
    "            print(k,v)"
   ]
  },
  {
   "cell_type": "code",
   "execution_count": 27,
   "id": "8e8d7221",
   "metadata": {},
   "outputs": [
    {
     "name": "stdout",
     "output_type": "stream",
     "text": [
      "NaiveBayesClassfier is created\n",
      "4 [54844, 3748]\n",
      "7 [54844, 3748]\n",
      "8 [54844, 3748]\n",
      "9 [54844, 3748]\n",
      "10 [54844, 3748]\n",
      "11 [54844, 3748]\n",
      "12 [54844, 3748]\n",
      "14 [54844, 3748]\n",
      "15 [54844, 3748]\n",
      "16 [54844, 3748]\n",
      "17 [54844, 3748]\n",
      "18 [54844, 3748]\n",
      "19 [54844, 3748]\n",
      "22 [54844, 3748]\n",
      "24 [54844, 3748]\n",
      "30 [54844, 3748]\n",
      "31 [54844, 3748]\n",
      "32 [54844, 3748]\n",
      "33 [54844, 3748]\n",
      "34 [54844, 3748]\n",
      "35 [54844, 3748]\n",
      "36 [54844, 3748]\n",
      "37 [54844, 3748]\n",
      "38 [54844, 3748]\n",
      "39 [54844, 3748]\n",
      "40 [54844, 3748]\n",
      "41 [54844, 3748]\n"
     ]
    }
   ],
   "source": [
    "clf = NaiveBayesClassifier()\n",
    "clf.fit(train)"
   ]
  },
  {
   "cell_type": "code",
   "execution_count": 15,
   "id": "2f5167d0",
   "metadata": {},
   "outputs": [
    {
     "data": {
      "text/plain": [
       "[['ID00001',\n",
       "  0.515873589958172,\n",
       "  0.05,\n",
       "  0.644230769230769,\n",
       "  0,\n",
       "  4990,\n",
       "  1,\n",
       "  0,\n",
       "  0,\n",
       "  0,\n",
       "  0,\n",
       "  0,\n",
       "  0,\n",
       "  2,\n",
       "  0,\n",
       "  0,\n",
       "  0,\n",
       "  0,\n",
       "  0,\n",
       "  0,\n",
       "  796,\n",
       "  3,\n",
       "  0,\n",
       "  5,\n",
       "  0,\n",
       "  4.6,\n",
       "  3445,\n",
       "  1515,\n",
       "  1475,\n",
       "  1185,\n",
       "  0,\n",
       "  0,\n",
       "  0,\n",
       "  0,\n",
       "  0,\n",
       "  0,\n",
       "  0,\n",
       "  0,\n",
       "  0,\n",
       "  0,\n",
       "  0,\n",
       "  0,\n",
       "  0,\n",
       "  0]]"
      ]
     },
     "execution_count": 15,
     "metadata": {},
     "output_type": "execute_result"
    }
   ],
   "source": [
    "train[:2][:-1]"
   ]
  },
  {
   "cell_type": "code",
   "execution_count": null,
   "id": "eb19108c",
   "metadata": {},
   "outputs": [],
   "source": []
  }
 ],
 "metadata": {
  "kernelspec": {
   "display_name": "Python 3 (ipykernel)",
   "language": "python",
   "name": "python3"
  },
  "language_info": {
   "codemirror_mode": {
    "name": "ipython",
    "version": 3
   },
   "file_extension": ".py",
   "mimetype": "text/x-python",
   "name": "python",
   "nbconvert_exporter": "python",
   "pygments_lexer": "ipython3",
   "version": "3.8.5"
  }
 },
 "nbformat": 4,
 "nbformat_minor": 5
}
