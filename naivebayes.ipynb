{
 "cells": [
  {
   "cell_type": "code",
   "execution_count": 1,
   "id": "3950260d",
   "metadata": {},
   "outputs": [
    {
     "name": "stdout",
     "output_type": "stream",
     "text": [
      "0: ID00001\n",
      "1: 0.515873589958172\n",
      "2: 0.05\n",
      "3: 0.644230769230769\n",
      "4: C1\n",
      "5: 4990\n",
      "6: 1\n",
      "7: A\n",
      "8: M1\n",
      "9: CNG\n",
      "10: 60Nm@3500rpm\n",
      "11: 40.36bhp@6000rpm\n",
      "12: F8D Petrol Engine\n",
      "13: 2\n",
      "14: No\n",
      "15: No\n",
      "16: No\n",
      "17: Yes\n",
      "18: No\n",
      "19: Drum\n",
      "20: 796\n",
      "21: 3\n",
      "22: Manual\n",
      "23: 5\n",
      "24: Power\n",
      "25: 4.6\n",
      "26: 3445\n",
      "27: 1515\n",
      "28: 1475\n",
      "29: 1185\n",
      "30: No\n",
      "31: No\n",
      "32: No\n",
      "33: No\n",
      "34: No\n",
      "35: No\n",
      "36: No\n",
      "37: Yes\n",
      "38: No\n",
      "39: No\n",
      "40: No\n",
      "41: Yes\n",
      "42: 0\n",
      "43: 0\n"
     ]
    }
   ],
   "source": [
    "from data import read_csv"
   ]
  },
  {
   "cell_type": "code",
   "execution_count": null,
   "id": "1795d108",
   "metadata": {},
   "outputs": [],
   "source": []
  }
 ],
 "metadata": {
  "kernelspec": {
   "display_name": "Python 3 (ipykernel)",
   "language": "python",
   "name": "python3"
  },
  "language_info": {
   "codemirror_mode": {
    "name": "ipython",
    "version": 3
   },
   "file_extension": ".py",
   "mimetype": "text/x-python",
   "name": "python",
   "nbconvert_exporter": "python",
   "pygments_lexer": "ipython3",
   "version": "3.8.5"
  }
 },
 "nbformat": 4,
 "nbformat_minor": 5
}
