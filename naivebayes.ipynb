{
 "cells": [
  {
   "cell_type": "code",
   "execution_count": 10,
   "id": "314775f6",
   "metadata": {},
   "outputs": [],
   "source": [
    "from data import read_csv\n",
    "import seaborn as sns"
   ]
  },
  {
   "cell_type": "code",
   "execution_count": 2,
   "id": "f7de21f1",
   "metadata": {},
   "outputs": [],
   "source": [
    "train_path = \"..//data//train.csv\"\n",
    "test_path = \"..//data//test.csv\""
   ]
  },
  {
   "cell_type": "code",
   "execution_count": 4,
   "id": "2cc9274f",
   "metadata": {},
   "outputs": [
    {
     "name": "stdout",
     "output_type": "stream",
     "text": [
      "['ID58593', 0.341731678878033, 0.0, 0.586538461538462, 2, 4076, 1, 0, 0, 0, 0, 0, 0, 2, 0, 0, 0, 0, 0, 0, 796, 3, 0, 5, 0, 4.6, 3445, 1515, 1475, 1185, 0, 0, 0, 0, 0, 0, 0, 0, 0, 0, 0, 0, 0]\n"
     ]
    }
   ],
   "source": [
    "header,train,d = read_csv(train_path)\n",
    "_,test,_ = read_csv(test_path,test=True,Dict = d)\n",
    "print(test[0])"
   ]
  },
  {
   "cell_type": "code",
   "execution_count": 11,
   "id": "4af28531",
   "metadata": {},
   "outputs": [],
   "source": [
    "class NaiveBayesClassifier:\n",
    "    def __init__(self):\n",
    "        self.cat = [4,7,8,9,10,11,12,14,15,16,17,18,19,22,24,30,31,32,33,34,35,36,37,38,39,40,41]\n",
    "        self.num = []\n",
    "        self.e = 2.71828182846\n",
    "        self.pi = 3.14159265359\n",
    "        for i in range(1,43): #ID and is_claim is excluded\n",
    "            if i not in self.cat:\n",
    "                self.num.append(i)\n",
    "        print(\"NaiveBayesClassfier is created\")\n",
    "        \n",
    "    def fit(self,data):\n",
    "        self.data = data\n",
    "        self.posterior = dict()\n",
    "        self.claim = [0,0] #Calculation of is_claim in categorical fit\n",
    "        for d in self.data:\n",
    "            claim = d[43]\n",
    "            self.claim[claim] += 1 \n",
    "        self.categorical_prob()\n",
    "        self.numerical_prob()\n",
    "        \n",
    "    \n",
    "    def categorical_prob(self):\n",
    "        # Initialize\n",
    "        for c in self.cat:\n",
    "            self.posterior[c] = dict()\n",
    "        \n",
    "        for d in self.data:\n",
    "            claim = d[43]\n",
    "            for c in self.cat:\n",
    "                if d[c] not in self.posterior[c].keys():\n",
    "                    self.posterior[c][d[c]]=[0,0]\n",
    "                self.posterior[c][d[c]][claim] += 1\n",
    "        \n",
    "        # Assume all features are independent\n",
    "        # P(x_i|C_j) = count(x_i & C_j)/count(C_j)\n",
    "        for k,v in self.posterior.items():\n",
    "            for x,count in v.items():\n",
    "                count[0] = count[0]/self.claim[0]\n",
    "                count[1] = count[1]/self.claim[1]\n",
    "            #print(k,v)\n",
    "        \n",
    "    def numerical_prob(self):\n",
    "        # Assume all the continuous features are gaussian distribution\n",
    "        # take all the data into a list\n",
    "        subdata = dict()\n",
    "        for c in self.num:\n",
    "            # The first subarray store the data of is_claim=0, the second store the data of is_claim=1\n",
    "            subdata[c] = [[0],[0]] # The first element of each subarray is the sum of the rest elements\n",
    "\n",
    "        for d in self.data:\n",
    "            for c in self.num:\n",
    "                claim = d[43]\n",
    "                subdata[c][claim][0] += d[c]\n",
    "                subdata[c][claim].append(d[c])\n",
    "\n",
    "        # Calculate mean and variance\n",
    "        for c in self.num:\n",
    "            self.posterior[c] = [[0,1],[0,1]] # mean and variance of is_claim = 0, mean and variance of is_claim = 1\n",
    "            for i in range(2):\n",
    "                mean = subdata[c][i][0]/(len(subdata[c][i])-1)\n",
    "                variance = 0\n",
    "                for j in range(1,len(subdata[c][i])):\n",
    "                    variance += ((subdata[c][i][j]-mean)**2)\n",
    "                variance /= (len(subdata[c][i])-1)\n",
    "                self.posterior[c][i] = [mean,variance]\n",
    "                \n",
    "    \n",
    "    def predict_one(self,data):\n",
    "        p0 = 1\n",
    "        p1 = 1\n",
    "        for c in self.cat:\n",
    "            p0 *= self.posterior[c][data[c]][0]\n",
    "            p1 *= self.posterior[c][data[c]][1]\n",
    "        \n",
    "        for n in self.num:\n",
    "            mean0 = self.posterior[c][0][0]\n",
    "            var0 = self.posterior[c][0][1]\n",
    "            mean1 = self.posterior[c][1][0]\n",
    "            var1 = self.posterior[c][1][1]\n",
    "            p0 *= (self.e**(-((data[c]-mean0)**2)/2/var0)/(2*self.pi*var0)**0.5)\n",
    "            p1 *= (self.e**(-((data[c]-mean1)**2)/2/var1)/(2*self.pi*var1)**0.5)\n",
    "            #if p0>p1:\n",
    "            #    cmp = '>'\n",
    "            #else:\n",
    "            #    cmp = '<'\n",
    "            #print(f\"{p0}{cmp}{p1}\")\n",
    "        \n",
    "        p0 *= self.claim[0]/(self.claim[0]+self.claim[1])\n",
    "        p1 *= self.claim[1]/(self.claim[0]+self.claim[1])\n",
    "        if p0>p1:\n",
    "            return 0\n",
    "        else:\n",
    "            return 1\n",
    "        \n",
    "    def score(self,data):\n",
    "        y_pred = []\n",
    "        y_true = []\n",
    "        for d in data:\n",
    "            y_true.append(d[43])\n",
    "            y_pred.append(self.predict_one(d))\n",
    "        \n",
    "        TP = 0\n",
    "        TN = 0\n",
    "        FP = 0\n",
    "        FN = 0\n",
    "        for i,j in zip(y_true,y_pred):\n",
    "            if i==j:\n",
    "                if i == 1:\n",
    "                    TP += 1\n",
    "                else:\n",
    "                    TN += 1\n",
    "            else:\n",
    "                if j == 1:\n",
    "                    FP += 1\n",
    "                else:\n",
    "                    FN += 1\n",
    "        recall = \n",
    "        return [[TN,FP],[FN,TP]]"
   ]
  },
  {
   "cell_type": "code",
   "execution_count": 15,
   "id": "8e8d7221",
   "metadata": {},
   "outputs": [
    {
     "name": "stdout",
     "output_type": "stream",
     "text": [
      "NaiveBayesClassfier is created\n",
      "3733 348 54496 15\n"
     ]
    }
   ],
   "source": [
    "clf = NaiveBayesClassifier()\n",
    "clf.fit(train)\n",
    "conf_mat = clf.score(train)\n",
    "conf_mat_flatten = [conf_mat[0][0],conf_mat[0][1],conf_mat[1][0],conf_mat[1][1]]"
   ]
  },
  {
   "cell_type": "code",
   "execution_count": 21,
   "id": "2f5167d0",
   "metadata": {},
   "outputs": [
    {
     "data": {
      "text/plain": [
       "<AxesSubplot:>"
      ]
     },
     "execution_count": 21,
     "metadata": {},
     "output_type": "execute_result"
    },
    {
     "data": {
      "image/png": "[encoded data removed]",
      "text/plain": [
       "<Figure size 432x288 with 2 Axes>"
      ]
     },
     "metadata": {
      "needs_background": "light"
     },
     "output_type": "display_data"
    }
   ],
   "source": [
    "names = ['TN','FP','FN','TP']\n",
    "counts = [\"{0:0.0f}\".format(value) for value in conf_mat_flatten]\n",
    "total = conf_mat[0][0]+conf_mat[0][1]+conf_mat[1][0]+conf_mat[1][1]\n",
    "percentages = [\"{0:.2%}\".format(value/total) for value in conf_mat_flatten]\n",
    "labels = [f\"{n}\\n{c}\\n{p}\" for n, c, p in zip(names,counts,percentages)]\n",
    "labels = [[labels[0],labels[1]],[labels[2],labels[3]]]\n",
    "sns.heatmap(conf_mat, annot=labels, fmt='', cmap='Blues')"
   ]
  },
  {
   "cell_type": "code",
   "execution_count": 1,
   "id": "eb19108c",
   "metadata": {},
   "outputs": [],
   "source": [
    "def log(x,base):\n",
    "    result = ln(x)/ln(base)\n",
    "    return result\n",
    "\n",
    "def ln(x):\n",
    "    n = 100000.0\n",
    "    return n * ((x ** (1/n)) - 1)"
   ]
  },
  {
   "cell_type": "code",
   "execution_count": null,
   "id": "7ba0e689",
   "metadata": {},
   "outputs": [],
   "source": []
  }
 ],
 "metadata": {
  "kernelspec": {
   "display_name": "Python 3 (ipykernel)",
   "language": "python",
   "name": "python3"
  },
  "language_info": {
   "codemirror_mode": {
    "name": "ipython",
    "version": 3
   },
   "file_extension": ".py",
   "mimetype": "text/x-python",
   "name": "python",
   "nbconvert_exporter": "python",
   "pygments_lexer": "ipython3",
   "version": "3.8.5"
  }
 },
 "nbformat": 4,
 "nbformat_minor": 5
}
